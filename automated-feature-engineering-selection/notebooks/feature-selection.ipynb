{
 "cells": [
  {
   "cell_type": "markdown",
   "metadata": {},
   "source": [
    "# Automated feature selection\n",
    "\n",
    "**Reasons to have:**\n",
    "\n",
    "* Some automatically created features are garbage\n",
    "* Reduces complexity\n",
    "* Trains faster\n",
    "* Improves accuracy\n",
    "* Reduce overfitting\n",
    "\n",
    "**Methods:**\n",
    "1. Filter methods\n",
    "2. Wrapper Methods\n",
    "3. Embedded Methods"
   ]
  },
  {
   "cell_type": "code",
   "execution_count": 42,
   "metadata": {},
   "outputs": [],
   "source": [
    "import numpy as np\n",
    "import pandas as pd\n",
    "\n",
    "from IPython.display import Image"
   ]
  },
  {
   "cell_type": "markdown",
   "metadata": {},
   "source": [
    "## Load data"
   ]
  },
  {
   "cell_type": "code",
   "execution_count": 5,
   "metadata": {},
   "outputs": [],
   "source": [
    "input_file = '../data/train_feature_sample.csv'\n",
    "dtypes = {\n",
    "    'ip': 'uint32',\n",
    "    'app': 'uint16',\n",
    "    'device': 'uint16',\n",
    "    'os': 'uint16',\n",
    "    'channel': 'uint16',\n",
    "    'is_attributed': 'uint8'\n",
    "}"
   ]
  },
  {
   "cell_type": "code",
   "execution_count": 36,
   "metadata": {},
   "outputs": [
    {
     "data": {
      "text/html": [
       "<div>\n",
       "<style scoped>\n",
       "    .dataframe tbody tr th:only-of-type {\n",
       "        vertical-align: middle;\n",
       "    }\n",
       "\n",
       "    .dataframe tbody tr th {\n",
       "        vertical-align: top;\n",
       "    }\n",
       "\n",
       "    .dataframe thead th {\n",
       "        text-align: right;\n",
       "    }\n",
       "</style>\n",
       "<table border=\"1\" class=\"dataframe\">\n",
       "  <thead>\n",
       "    <tr style=\"text-align: right;\">\n",
       "      <th></th>\n",
       "      <th>ip</th>\n",
       "      <th>app</th>\n",
       "      <th>device</th>\n",
       "      <th>os</th>\n",
       "      <th>channel</th>\n",
       "      <th>id</th>\n",
       "      <th>app.isin([1, 2, 3, 4, 5])</th>\n",
       "      <th>COUNT(clicks)</th>\n",
       "      <th>PERCENT_TRUE(clicks.is_attributed)</th>\n",
       "      <th>NUM_UNIQUE(clicks.ip)</th>\n",
       "      <th>...</th>\n",
       "      <th>MODE(clicks.channel)</th>\n",
       "      <th>COUNT(clicks WHERE is_attributed = True)</th>\n",
       "      <th>NUM_UNIQUE(clicks.DAY(click_time))</th>\n",
       "      <th>NUM_UNIQUE(clicks.YEAR(click_time))</th>\n",
       "      <th>NUM_UNIQUE(clicks.MONTH(click_time))</th>\n",
       "      <th>NUM_UNIQUE(clicks.WEEKDAY(click_time))</th>\n",
       "      <th>MODE(clicks.DAY(click_time))</th>\n",
       "      <th>MODE(clicks.YEAR(click_time))</th>\n",
       "      <th>MODE(clicks.MONTH(click_time))</th>\n",
       "      <th>MODE(clicks.WEEKDAY(click_time))</th>\n",
       "    </tr>\n",
       "  </thead>\n",
       "  <tbody>\n",
       "    <tr>\n",
       "      <th>0</th>\n",
       "      <td>87540</td>\n",
       "      <td>12</td>\n",
       "      <td>1</td>\n",
       "      <td>13</td>\n",
       "      <td>497</td>\n",
       "      <td>0</td>\n",
       "      <td>False</td>\n",
       "      <td>13198</td>\n",
       "      <td>0.000076</td>\n",
       "      <td>9190</td>\n",
       "      <td>...</td>\n",
       "      <td>178</td>\n",
       "      <td>1.0</td>\n",
       "      <td>4</td>\n",
       "      <td>1</td>\n",
       "      <td>1</td>\n",
       "      <td>4</td>\n",
       "      <td>8</td>\n",
       "      <td>2017</td>\n",
       "      <td>11</td>\n",
       "      <td>2</td>\n",
       "    </tr>\n",
       "    <tr>\n",
       "      <th>1</th>\n",
       "      <td>105560</td>\n",
       "      <td>25</td>\n",
       "      <td>1</td>\n",
       "      <td>17</td>\n",
       "      <td>259</td>\n",
       "      <td>1</td>\n",
       "      <td>False</td>\n",
       "      <td>804</td>\n",
       "      <td>0.000000</td>\n",
       "      <td>740</td>\n",
       "      <td>...</td>\n",
       "      <td>259</td>\n",
       "      <td>0.0</td>\n",
       "      <td>4</td>\n",
       "      <td>1</td>\n",
       "      <td>1</td>\n",
       "      <td>4</td>\n",
       "      <td>7</td>\n",
       "      <td>2017</td>\n",
       "      <td>11</td>\n",
       "      <td>1</td>\n",
       "    </tr>\n",
       "    <tr>\n",
       "      <th>2</th>\n",
       "      <td>101424</td>\n",
       "      <td>12</td>\n",
       "      <td>1</td>\n",
       "      <td>19</td>\n",
       "      <td>212</td>\n",
       "      <td>2</td>\n",
       "      <td>False</td>\n",
       "      <td>13198</td>\n",
       "      <td>0.000076</td>\n",
       "      <td>9190</td>\n",
       "      <td>...</td>\n",
       "      <td>178</td>\n",
       "      <td>1.0</td>\n",
       "      <td>4</td>\n",
       "      <td>1</td>\n",
       "      <td>1</td>\n",
       "      <td>4</td>\n",
       "      <td>8</td>\n",
       "      <td>2017</td>\n",
       "      <td>11</td>\n",
       "      <td>2</td>\n",
       "    </tr>\n",
       "    <tr>\n",
       "      <th>3</th>\n",
       "      <td>94584</td>\n",
       "      <td>13</td>\n",
       "      <td>1</td>\n",
       "      <td>13</td>\n",
       "      <td>477</td>\n",
       "      <td>3</td>\n",
       "      <td>False</td>\n",
       "      <td>2422</td>\n",
       "      <td>0.000000</td>\n",
       "      <td>2179</td>\n",
       "      <td>...</td>\n",
       "      <td>477</td>\n",
       "      <td>0.0</td>\n",
       "      <td>4</td>\n",
       "      <td>1</td>\n",
       "      <td>1</td>\n",
       "      <td>4</td>\n",
       "      <td>7</td>\n",
       "      <td>2017</td>\n",
       "      <td>11</td>\n",
       "      <td>1</td>\n",
       "    </tr>\n",
       "    <tr>\n",
       "      <th>4</th>\n",
       "      <td>68413</td>\n",
       "      <td>12</td>\n",
       "      <td>1</td>\n",
       "      <td>1</td>\n",
       "      <td>178</td>\n",
       "      <td>4</td>\n",
       "      <td>False</td>\n",
       "      <td>13198</td>\n",
       "      <td>0.000076</td>\n",
       "      <td>9190</td>\n",
       "      <td>...</td>\n",
       "      <td>178</td>\n",
       "      <td>1.0</td>\n",
       "      <td>4</td>\n",
       "      <td>1</td>\n",
       "      <td>1</td>\n",
       "      <td>4</td>\n",
       "      <td>8</td>\n",
       "      <td>2017</td>\n",
       "      <td>11</td>\n",
       "      <td>2</td>\n",
       "    </tr>\n",
       "  </tbody>\n",
       "</table>\n",
       "<p>5 rows × 26 columns</p>\n",
       "</div>"
      ],
      "text/plain": [
       "       ip  app  device  os  channel  id  app.isin([1, 2, 3, 4, 5])  \\\n",
       "0   87540   12       1  13      497   0                      False   \n",
       "1  105560   25       1  17      259   1                      False   \n",
       "2  101424   12       1  19      212   2                      False   \n",
       "3   94584   13       1  13      477   3                      False   \n",
       "4   68413   12       1   1      178   4                      False   \n",
       "\n",
       "   COUNT(clicks)  PERCENT_TRUE(clicks.is_attributed)  NUM_UNIQUE(clicks.ip)  \\\n",
       "0          13198                            0.000076                   9190   \n",
       "1            804                            0.000000                    740   \n",
       "2          13198                            0.000076                   9190   \n",
       "3           2422                            0.000000                   2179   \n",
       "4          13198                            0.000076                   9190   \n",
       "\n",
       "                 ...                 MODE(clicks.channel)  \\\n",
       "0                ...                                  178   \n",
       "1                ...                                  259   \n",
       "2                ...                                  178   \n",
       "3                ...                                  477   \n",
       "4                ...                                  178   \n",
       "\n",
       "   COUNT(clicks WHERE is_attributed = True)  \\\n",
       "0                                       1.0   \n",
       "1                                       0.0   \n",
       "2                                       1.0   \n",
       "3                                       0.0   \n",
       "4                                       1.0   \n",
       "\n",
       "   NUM_UNIQUE(clicks.DAY(click_time))  NUM_UNIQUE(clicks.YEAR(click_time))  \\\n",
       "0                                   4                                    1   \n",
       "1                                   4                                    1   \n",
       "2                                   4                                    1   \n",
       "3                                   4                                    1   \n",
       "4                                   4                                    1   \n",
       "\n",
       "   NUM_UNIQUE(clicks.MONTH(click_time))  \\\n",
       "0                                     1   \n",
       "1                                     1   \n",
       "2                                     1   \n",
       "3                                     1   \n",
       "4                                     1   \n",
       "\n",
       "   NUM_UNIQUE(clicks.WEEKDAY(click_time))  MODE(clicks.DAY(click_time))  \\\n",
       "0                                       4                             8   \n",
       "1                                       4                             7   \n",
       "2                                       4                             8   \n",
       "3                                       4                             7   \n",
       "4                                       4                             8   \n",
       "\n",
       "   MODE(clicks.YEAR(click_time))  MODE(clicks.MONTH(click_time))  \\\n",
       "0                           2017                              11   \n",
       "1                           2017                              11   \n",
       "2                           2017                              11   \n",
       "3                           2017                              11   \n",
       "4                           2017                              11   \n",
       "\n",
       "   MODE(clicks.WEEKDAY(click_time))  \n",
       "0                                 2  \n",
       "1                                 1  \n",
       "2                                 2  \n",
       "3                                 1  \n",
       "4                                 2  \n",
       "\n",
       "[5 rows x 26 columns]"
      ]
     },
     "execution_count": 36,
     "metadata": {},
     "output_type": "execute_result"
    }
   ],
   "source": [
    "df_train = pd.read_csv(input_file, dtype=dtypes)\n",
    "X = df_train.drop(columns='click_time')\n",
    "y = X.pop('is_attributed')\n",
    "\n",
    "X.head()"
   ]
  },
  {
   "cell_type": "markdown",
   "metadata": {},
   "source": [
    "# Filter methods\n",
    "\n",
    "* statistical tests\n",
    "* independent of machine learning algorithms\n",
    "* used as a preprocessing step before machine learning "
   ]
  },
  {
   "cell_type": "code",
   "execution_count": 44,
   "metadata": {},
   "outputs": [
    {
     "data": {
      "text/html": [
       "<img src=\"../img/filter-methods.png\" width=\"600\" height=\"600\"/>"
      ],
      "text/plain": [
       "<IPython.core.display.Image object>"
      ]
     },
     "execution_count": 44,
     "metadata": {},
     "output_type": "execute_result"
    }
   ],
   "source": [
    "Image(url= \"../img/filter-methods.png\", width=600, height=600)"
   ]
  },
  {
   "cell_type": "markdown",
   "metadata": {},
   "source": [
    "## 1. Common sense"
   ]
  },
  {
   "cell_type": "code",
   "execution_count": 25,
   "metadata": {},
   "outputs": [
    {
     "data": {
      "text/plain": [
       "27"
      ]
     },
     "execution_count": 25,
     "metadata": {},
     "output_type": "execute_result"
    }
   ],
   "source": [
    "len(X.columns)"
   ]
  },
  {
   "cell_type": "code",
   "execution_count": 11,
   "metadata": {},
   "outputs": [
    {
     "data": {
      "text/plain": [
       "Index(['ip', 'app', 'device', 'os', 'channel', 'is_attributed', 'id',\n",
       "       'app.isin([1, 2, 3, 4, 5])', 'COUNT(clicks)',\n",
       "       'PERCENT_TRUE(clicks.is_attributed)', 'NUM_UNIQUE(clicks.ip)',\n",
       "       'NUM_UNIQUE(clicks.device)', 'NUM_UNIQUE(clicks.os)',\n",
       "       'NUM_UNIQUE(clicks.channel)', 'MODE(clicks.ip)', 'MODE(clicks.device)',\n",
       "       'MODE(clicks.os)', 'MODE(clicks.channel)',\n",
       "       'COUNT(clicks WHERE is_attributed = True)',\n",
       "       'NUM_UNIQUE(clicks.DAY(click_time))',\n",
       "       'NUM_UNIQUE(clicks.YEAR(click_time))',\n",
       "       'NUM_UNIQUE(clicks.MONTH(click_time))',\n",
       "       'NUM_UNIQUE(clicks.WEEKDAY(click_time))',\n",
       "       'MODE(clicks.DAY(click_time))', 'MODE(clicks.YEAR(click_time))',\n",
       "       'MODE(clicks.MONTH(click_time))', 'MODE(clicks.WEEKDAY(click_time))'],\n",
       "      dtype='object')"
      ]
     },
     "execution_count": 11,
     "metadata": {},
     "output_type": "execute_result"
    }
   ],
   "source": [
    "X.columns"
   ]
  },
  {
   "cell_type": "code",
   "execution_count": 14,
   "metadata": {},
   "outputs": [],
   "source": [
    "X_tmp = X.drop(columns='NUM_UNIQUE(clicks.YEAR(click_time))')"
   ]
  },
  {
   "cell_type": "markdown",
   "metadata": {},
   "source": [
    "## 2. Variance\n",
    "\n",
    "* Removes features with low variance\n",
    "* Docs: http://scikit-learn.org/stable/modules/generated/sklearn.feature_selection.VarianceThreshold.html#sklearn.feature_selection.VarianceThreshold"
   ]
  },
  {
   "cell_type": "code",
   "execution_count": 24,
   "metadata": {},
   "outputs": [
    {
     "data": {
      "text/plain": [
       "19"
      ]
     },
     "execution_count": 24,
     "metadata": {},
     "output_type": "execute_result"
    }
   ],
   "source": [
    "from sklearn.feature_selection import VarianceThreshold\n",
    "sel = VarianceThreshold(threshold=(.8 * (1 - .8)))\n",
    "X_tmp = sel.fit_transform(X)\n",
    "len(X_tmp[0])"
   ]
  },
  {
   "cell_type": "code",
   "execution_count": 20,
   "metadata": {},
   "outputs": [
    {
     "data": {
      "text/plain": [
       "array([4.87695579e+09, 2.23246188e+02, 6.74266752e+04, 3.12960316e+03,\n",
       "       1.68282123e+04, 2.26484710e-03, 8.33333333e+08, 2.22434039e-01,\n",
       "       3.38776416e+07, 4.59798623e-04, 1.37597005e+07, 2.61801414e+01,\n",
       "       1.60288232e+02, 1.08544473e+02, 5.72870826e+08, 2.19034011e+04,\n",
       "       1.22545909e+03, 1.73382946e+04, 3.08243438e+01, 2.81597500e-02,\n",
       "       0.00000000e+00, 0.00000000e+00, 2.81597500e-02, 3.60955211e-01,\n",
       "       0.00000000e+00, 0.00000000e+00, 3.60955211e-01])"
      ]
     },
     "execution_count": 20,
     "metadata": {},
     "output_type": "execute_result"
    }
   ],
   "source": [
    "sel.variances_ "
   ]
  },
  {
   "cell_type": "markdown",
   "metadata": {},
   "source": [
    "# Wrapper methods\n",
    "\n",
    "* \"wraps\" machine learning algorithms\n",
    "* adds or removes features from a subset\n",
    "\n",
    "**Examples:**\n",
    "\n",
    "* Forward Selection - starts from no features, adds one by one\n",
    "* Backward Elimination - starts from all features, removes one by one\n",
    "* Recursive Feature elimination - optimization algorithm, "
   ]
  },
  {
   "cell_type": "markdown",
   "metadata": {},
   "source": [
    "## 1. Recursive feature elimination\n",
    "* Recursively considers smaller and smaller sets of features\n",
    "* Docs: http://scikit-learn.org/stable/modules/generated/sklearn.feature_selection.RFE.html#sklearn.feature_selection.RFE"
   ]
  },
  {
   "cell_type": "code",
   "execution_count": 37,
   "metadata": {},
   "outputs": [],
   "source": [
    "from sklearn.feature_selection import RFE\n",
    "from sklearn.linear_model import LogisticRegression"
   ]
  },
  {
   "cell_type": "code",
   "execution_count": 38,
   "metadata": {},
   "outputs": [],
   "source": [
    "model = LogisticRegression()\n",
    "rfe = RFE(model, 3)\n",
    "fit = rfe.fit(X, y)"
   ]
  },
  {
   "cell_type": "code",
   "execution_count": 39,
   "metadata": {},
   "outputs": [
    {
     "name": "stdout",
     "output_type": "stream",
     "text": [
      "Num Features: 3\n",
      "Selected Features: [False False False False False False False False  True False False False\n",
      " False False False False False False  True False False  True False False\n",
      " False False]\n",
      "Feature Ranking: [19 12 15 14 10 21  6 17  1 16  4  7  8 22  9 18 11  3  1 23 24  1  5 13\n",
      " 20  2]\n"
     ]
    }
   ],
   "source": [
    "print(\"Num Features: %d\" % fit.n_features_)\n",
    "print(\"Selected Features: %s\" % fit.support_)\n",
    "print(\"Feature Ranking: %s\" % fit.ranking_)"
   ]
  },
  {
   "cell_type": "code",
   "execution_count": 41,
   "metadata": {},
   "outputs": [
    {
     "name": "stdout",
     "output_type": "stream",
     "text": [
      "PERCENT_TRUE(clicks.is_attributed): True\n",
      "NUM_UNIQUE(clicks.DAY(click_time)): True\n",
      "NUM_UNIQUE(clicks.WEEKDAY(click_time)): True\n"
     ]
    }
   ],
   "source": [
    "for x in zip(X.columns, fit.support_):\n",
    "    if x[1]:\n",
    "        print(f\"{x[0]}: {x[1]}\")"
   ]
  },
  {
   "cell_type": "markdown",
   "metadata": {},
   "source": [
    "# Embedded Methods\n",
    "* L1 regularization - Lasso Regression\n",
    "* Vowpal Wabbit supports regularization via --l1 and --l2 CLI arguments"
   ]
  },
  {
   "cell_type": "markdown",
   "metadata": {},
   "source": [
    "## 1. L1 regularization - Lasso Regression"
   ]
  },
  {
   "cell_type": "code",
   "execution_count": 81,
   "metadata": {},
   "outputs": [],
   "source": [
    "from sklearn.feature_selection import SelectFromModel\n",
    "from sklearn.linear_model import LogisticRegression\n",
    "\n",
    "model = LogisticRegression(penalty='l1')\n",
    "sfm = SelectFromModel(model, threshold=0.05)\n",
    "fit = sfm.fit(X, y)\n",
    "X_tmp = sfm.transform(X)\n",
    "n_features = X_tmp.shape[1]"
   ]
  },
  {
   "cell_type": "code",
   "execution_count": 82,
   "metadata": {},
   "outputs": [
    {
     "data": {
      "text/plain": [
       "8"
      ]
     },
     "execution_count": 82,
     "metadata": {},
     "output_type": "execute_result"
    }
   ],
   "source": [
    "n_features"
   ]
  },
  {
   "cell_type": "code",
   "execution_count": 83,
   "metadata": {},
   "outputs": [
    {
     "data": {
      "text/plain": [
       "Index(['app.isin([1, 2, 3, 4, 5])', 'PERCENT_TRUE(clicks.is_attributed)',\n",
       "       'NUM_UNIQUE(clicks.device)', 'NUM_UNIQUE(clicks.os)',\n",
       "       'COUNT(clicks WHERE is_attributed = True)',\n",
       "       'NUM_UNIQUE(clicks.DAY(click_time))',\n",
       "       'NUM_UNIQUE(clicks.WEEKDAY(click_time))',\n",
       "       'MODE(clicks.WEEKDAY(click_time))'],\n",
       "      dtype='object')"
      ]
     },
     "execution_count": 83,
     "metadata": {},
     "output_type": "execute_result"
    }
   ],
   "source": [
    "X.columns[fit.get_support()]"
   ]
  },
  {
   "cell_type": "markdown",
   "metadata": {},
   "source": [
    "## Tree-based feature selection"
   ]
  },
  {
   "cell_type": "markdown",
   "metadata": {},
   "source": [
    "### 1. ExtraTreesClassifier"
   ]
  },
  {
   "cell_type": "code",
   "execution_count": 88,
   "metadata": {},
   "outputs": [],
   "source": [
    "from sklearn.ensemble import ExtraTreesClassifier\n",
    "model = ExtraTreesClassifier()\n",
    "model = model.fit(X, y)"
   ]
  },
  {
   "cell_type": "code",
   "execution_count": 89,
   "metadata": {},
   "outputs": [
    {
     "name": "stdout",
     "output_type": "stream",
     "text": [
      "ip: 0.2592652184984376\n",
      "app: 0.003253600013990679\n",
      "device: 0.03946934184906167\n",
      "os: 0.15059304629280784\n",
      "channel: 0.11440145993224052\n",
      "id: 0.21848299585344466\n",
      "app.isin([1, 2, 3, 4, 5]): 0.0006180732882415673\n",
      "COUNT(clicks): 0.005268426818902718\n",
      "PERCENT_TRUE(clicks.is_attributed): 0.11234806628569807\n",
      "NUM_UNIQUE(clicks.ip): 0.0065896650674301255\n",
      "NUM_UNIQUE(clicks.device): 0.008148857456277017\n",
      "NUM_UNIQUE(clicks.os): 0.01912024812887446\n",
      "NUM_UNIQUE(clicks.channel): 0.002707400680935038\n",
      "MODE(clicks.ip): 0.003958664527773973\n",
      "MODE(clicks.device): 0.0012040621637600364\n",
      "MODE(clicks.os): 0.0015037517285559493\n",
      "MODE(clicks.channel): 0.005502121715533106\n",
      "COUNT(clicks WHERE is_attributed = True): 0.03543788279187996\n",
      "NUM_UNIQUE(clicks.DAY(click_time)): 0.0005099438002270518\n",
      "NUM_UNIQUE(clicks.YEAR(click_time)): 0.0\n",
      "NUM_UNIQUE(clicks.MONTH(click_time)): 0.0\n",
      "NUM_UNIQUE(clicks.WEEKDAY(click_time)): 0.0064868212434843735\n",
      "MODE(clicks.DAY(click_time)): 0.002824747205215367\n",
      "MODE(clicks.YEAR(click_time)): 0.0\n",
      "MODE(clicks.MONTH(click_time)): 0.0\n",
      "MODE(clicks.WEEKDAY(click_time)): 0.002305604657228256\n"
     ]
    }
   ],
   "source": [
    "for x in zip(X.columns, model.feature_importances_):\n",
    "    print(f\"{x[0]}: {x[1]}\")"
   ]
  },
  {
   "cell_type": "markdown",
   "metadata": {},
   "source": [
    "### 2. RandomForestClassifier"
   ]
  },
  {
   "cell_type": "code",
   "execution_count": 94,
   "metadata": {},
   "outputs": [
    {
     "name": "stderr",
     "output_type": "stream",
     "text": [
      "[Parallel(n_jobs=1)]: Done   3 out of   3 | elapsed:   12.3s finished\n"
     ]
    },
    {
     "data": {
      "text/plain": [
       "'AUC 0.90 +/- 0.06'"
      ]
     },
     "execution_count": 94,
     "metadata": {},
     "output_type": "execute_result"
    }
   ],
   "source": [
    "from sklearn.ensemble import RandomForestClassifier\n",
    "from sklearn.model_selection import cross_val_score\n",
    "\n",
    "clf = RandomForestClassifier(n_estimators=400, n_jobs=-1)\n",
    "scores = cross_val_score(estimator=clf,X=X, y=y, cv=3, scoring=\"roc_auc\", verbose=True)\n",
    "\n",
    "\"AUC %.2f +/- %.2f\" % (scores.mean(), scores.std())"
   ]
  },
  {
   "cell_type": "code",
   "execution_count": 95,
   "metadata": {},
   "outputs": [],
   "source": [
    "clf = clf.fit(X, y)"
   ]
  },
  {
   "cell_type": "code",
   "execution_count": 96,
   "metadata": {},
   "outputs": [
    {
     "name": "stdout",
     "output_type": "stream",
     "text": [
      "1: Feature: ip, 0.295\n",
      "2: Feature: id, 0.226\n",
      "3: Feature: os, 0.116\n",
      "4: Feature: PERCENT_TRUE(clicks.is_attributed), 0.086\n",
      "5: Feature: channel, 0.082\n",
      "6: Feature: COUNT(clicks WHERE is_attributed = True), 0.038\n",
      "7: Feature: device, 0.035\n",
      "8: Feature: NUM_UNIQUE(clicks.os), 0.017\n",
      "9: Feature: COUNT(clicks), 0.015\n",
      "10: Feature: MODE(clicks.ip), 0.014\n",
      "11: Feature: NUM_UNIQUE(clicks.ip), 0.014\n",
      "12: Feature: NUM_UNIQUE(clicks.device), 0.014\n",
      "13: Feature: MODE(clicks.channel), 0.012\n",
      "14: Feature: app, 0.009\n",
      "15: Feature: NUM_UNIQUE(clicks.channel), 0.007\n",
      "16: Feature: MODE(clicks.device), 0.005\n",
      "17: Feature: MODE(clicks.os), 0.005\n",
      "18: Feature: MODE(clicks.DAY(click_time)), 0.003\n",
      "19: Feature: MODE(clicks.WEEKDAY(click_time)), 0.003\n",
      "20: Feature: NUM_UNIQUE(clicks.WEEKDAY(click_time)), 0.003\n"
     ]
    }
   ],
   "source": [
    "def feature_importances(model, features, n=10):\n",
    "    importances = model.feature_importances_\n",
    "    zipped = sorted(zip(features, importances), key=lambda x: -x[1])\n",
    "    for i, f in enumerate(zipped[:n]):\n",
    "        print(\"%d: Feature: %s, %.3f\" % (i+1, f[0], f[1]))\n",
    "\n",
    "    return [f[0] for f in zipped[:n]]\n",
    "\n",
    "top_features = feature_importances(clf, X, n=20)"
   ]
  },
  {
   "cell_type": "markdown",
   "metadata": {},
   "source": [
    "## 3. XGBoost"
   ]
  },
  {
   "cell_type": "code",
   "execution_count": 97,
   "metadata": {},
   "outputs": [
    {
     "ename": "ModuleNotFoundError",
     "evalue": "No module named 'xgboost'",
     "output_type": "error",
     "traceback": [
      "\u001b[0;31m---------------------------------------------------------------------------\u001b[0m",
      "\u001b[0;31mModuleNotFoundError\u001b[0m                       Traceback (most recent call last)",
      "\u001b[0;32m<ipython-input-97-61a4e90d3909>\u001b[0m in \u001b[0;36m<module>\u001b[0;34m()\u001b[0m\n\u001b[0;32m----> 1\u001b[0;31m \u001b[0;32mimport\u001b[0m \u001b[0mxgboost\u001b[0m \u001b[0;32mas\u001b[0m \u001b[0mxgb\u001b[0m\u001b[0;34m\u001b[0m\u001b[0m\n\u001b[0m\u001b[1;32m      2\u001b[0m \u001b[0;34m\u001b[0m\u001b[0m\n\u001b[1;32m      3\u001b[0m clf_xgBoost = xgb.XGBClassifier(\n\u001b[1;32m      4\u001b[0m     \u001b[0mmax_depth\u001b[0m \u001b[0;34m=\u001b[0m \u001b[0;36m4\u001b[0m\u001b[0;34m,\u001b[0m\u001b[0;34m\u001b[0m\u001b[0m\n\u001b[1;32m      5\u001b[0m     \u001b[0msubsample\u001b[0m \u001b[0;34m=\u001b[0m \u001b[0;36m0.8\u001b[0m\u001b[0;34m,\u001b[0m\u001b[0;34m\u001b[0m\u001b[0m\n",
      "\u001b[0;31mModuleNotFoundError\u001b[0m: No module named 'xgboost'"
     ]
    }
   ],
   "source": [
    "import xgboost as xgb\n",
    "\n",
    "clf_xgBoost = xgb.XGBClassifier(\n",
    "    max_depth = 4,\n",
    "    subsample = 0.8,\n",
    "    colsample_bytree = 0.7,\n",
    "    colsample_bylevel = 0.7,\n",
    "    scale_pos_weight = 9,\n",
    "    min_child_weight = 0,\n",
    "    reg_alpha = 4,\n",
    "    n_jobs = 4, \n",
    "    objective = 'binary:logistic'\n",
    ")\n",
    "# Fit the models\n",
    "clf_xgBoost.fit(X, y)"
   ]
  },
  {
   "cell_type": "code",
   "execution_count": null,
   "metadata": {},
   "outputs": [],
   "source": [
    "from sklearn import preprocessing\n",
    "\n",
    "importance_dict = {}\n",
    "for import_type in ['weight', 'gain', 'cover']:\n",
    "    importance_dict['xgBoost-'+import_type] = clf_xgBoost.get_booster().get_score(importance_type=import_type)\n",
    "    \n",
    "importance_df = pd.DataFrame(importance_dict).fillna(0)\n",
    "importance_df = pd.DataFrame(\n",
    "    preprocessing.MinMaxScaler().fit_transform(importance_df),\n",
    "    columns=importance_df.columns,\n",
    "    index=importance_df.index\n",
    ")\n",
    "\n",
    "importance_df['mean'] = importance_df.mean(axis=1)"
   ]
  },
  {
   "cell_type": "code",
   "execution_count": null,
   "metadata": {},
   "outputs": [],
   "source": [
    "importance_df.sort_values('mean').plot(kind='bar', figsize=(20, 7))"
   ]
  }
 ],
 "metadata": {
  "kernelspec": {
   "display_name": "Python 3",
   "language": "python",
   "name": "python3"
  },
  "language_info": {
   "codemirror_mode": {
    "name": "ipython",
    "version": 3
   },
   "file_extension": ".py",
   "mimetype": "text/x-python",
   "name": "python",
   "nbconvert_exporter": "python",
   "pygments_lexer": "ipython3",
   "version": "3.6.4"
  }
 },
 "nbformat": 4,
 "nbformat_minor": 2
}
