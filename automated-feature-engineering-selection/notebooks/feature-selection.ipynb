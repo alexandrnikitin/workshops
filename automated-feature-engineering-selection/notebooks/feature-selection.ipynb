{
 "cells": [
  {
   "cell_type": "markdown",
   "metadata": {},
   "source": [
    "# Automated feature selection\n",
    "\n",
    "**Reasons to have:**\n",
    "\n",
    "* Some automatically created features are garbage\n",
    "* Reduces complexity\n",
    "* Trains faster\n",
    "* Improves accuracy\n",
    "* Reduce overfitting\n",
    "\n",
    "**Methods:**\n",
    "1. Filter methods\n",
    "2. Wrapper Methods\n",
    "3. Embedded Methods"
   ]
  },
  {
   "cell_type": "code",
   "execution_count": 1,
   "metadata": {},
   "outputs": [],
   "source": [
    "import numpy as np\n",
    "import pandas as pd\n",
    "\n",
    "from IPython.display import Image"
   ]
  },
  {
   "cell_type": "markdown",
   "metadata": {},
   "source": [
    "## Load data"
   ]
  },
  {
   "cell_type": "code",
   "execution_count": 2,
   "metadata": {},
   "outputs": [],
   "source": [
    "input_file = '../data/train_feature_sample.csv'\n",
    "dtypes = {\n",
    "    'ip': 'uint32',\n",
    "    'app': 'uint16',\n",
    "    'device': 'uint16',\n",
    "    'os': 'uint16',\n",
    "    'channel': 'uint16',\n",
    "    'is_attributed': 'uint8'\n",
    "}"
   ]
  },
  {
   "cell_type": "code",
   "execution_count": 3,
   "metadata": {},
   "outputs": [
    {
     "data": {
      "text/html": [
       "<div>\n",
       "<style scoped>\n",
       "    .dataframe tbody tr th:only-of-type {\n",
       "        vertical-align: middle;\n",
       "    }\n",
       "\n",
       "    .dataframe tbody tr th {\n",
       "        vertical-align: top;\n",
       "    }\n",
       "\n",
       "    .dataframe thead th {\n",
       "        text-align: right;\n",
       "    }\n",
       "</style>\n",
       "<table border=\"1\" class=\"dataframe\">\n",
       "  <thead>\n",
       "    <tr style=\"text-align: right;\">\n",
       "      <th></th>\n",
       "      <th>ip</th>\n",
       "      <th>app</th>\n",
       "      <th>device</th>\n",
       "      <th>os</th>\n",
       "      <th>channel</th>\n",
       "      <th>app.isin([1, 2, 3, 4, 5])</th>\n",
       "      <th>COUNT(clicks)</th>\n",
       "      <th>PERCENT_TRUE(clicks.is_attributed)</th>\n",
       "      <th>NUM_UNIQUE(clicks.ip)</th>\n",
       "      <th>NUM_UNIQUE(clicks.device)</th>\n",
       "      <th>...</th>\n",
       "      <th>MODE(clicks.channel)</th>\n",
       "      <th>COUNT(clicks WHERE is_attributed = True)</th>\n",
       "      <th>NUM_UNIQUE(clicks.DAY(click_time))</th>\n",
       "      <th>NUM_UNIQUE(clicks.YEAR(click_time))</th>\n",
       "      <th>NUM_UNIQUE(clicks.MONTH(click_time))</th>\n",
       "      <th>NUM_UNIQUE(clicks.WEEKDAY(click_time))</th>\n",
       "      <th>MODE(clicks.DAY(click_time))</th>\n",
       "      <th>MODE(clicks.YEAR(click_time))</th>\n",
       "      <th>MODE(clicks.MONTH(click_time))</th>\n",
       "      <th>MODE(clicks.WEEKDAY(click_time))</th>\n",
       "    </tr>\n",
       "  </thead>\n",
       "  <tbody>\n",
       "    <tr>\n",
       "      <th>0</th>\n",
       "      <td>87540</td>\n",
       "      <td>12</td>\n",
       "      <td>1</td>\n",
       "      <td>13</td>\n",
       "      <td>497</td>\n",
       "      <td>False</td>\n",
       "      <td>13198</td>\n",
       "      <td>0.000076</td>\n",
       "      <td>9190</td>\n",
       "      <td>4</td>\n",
       "      <td>...</td>\n",
       "      <td>178</td>\n",
       "      <td>1.0</td>\n",
       "      <td>4</td>\n",
       "      <td>1</td>\n",
       "      <td>1</td>\n",
       "      <td>4</td>\n",
       "      <td>8</td>\n",
       "      <td>2017</td>\n",
       "      <td>11</td>\n",
       "      <td>2</td>\n",
       "    </tr>\n",
       "    <tr>\n",
       "      <th>1</th>\n",
       "      <td>105560</td>\n",
       "      <td>25</td>\n",
       "      <td>1</td>\n",
       "      <td>17</td>\n",
       "      <td>259</td>\n",
       "      <td>False</td>\n",
       "      <td>804</td>\n",
       "      <td>0.000000</td>\n",
       "      <td>740</td>\n",
       "      <td>2</td>\n",
       "      <td>...</td>\n",
       "      <td>259</td>\n",
       "      <td>0.0</td>\n",
       "      <td>4</td>\n",
       "      <td>1</td>\n",
       "      <td>1</td>\n",
       "      <td>4</td>\n",
       "      <td>7</td>\n",
       "      <td>2017</td>\n",
       "      <td>11</td>\n",
       "      <td>1</td>\n",
       "    </tr>\n",
       "    <tr>\n",
       "      <th>2</th>\n",
       "      <td>101424</td>\n",
       "      <td>12</td>\n",
       "      <td>1</td>\n",
       "      <td>19</td>\n",
       "      <td>212</td>\n",
       "      <td>False</td>\n",
       "      <td>13198</td>\n",
       "      <td>0.000076</td>\n",
       "      <td>9190</td>\n",
       "      <td>4</td>\n",
       "      <td>...</td>\n",
       "      <td>178</td>\n",
       "      <td>1.0</td>\n",
       "      <td>4</td>\n",
       "      <td>1</td>\n",
       "      <td>1</td>\n",
       "      <td>4</td>\n",
       "      <td>8</td>\n",
       "      <td>2017</td>\n",
       "      <td>11</td>\n",
       "      <td>2</td>\n",
       "    </tr>\n",
       "    <tr>\n",
       "      <th>3</th>\n",
       "      <td>94584</td>\n",
       "      <td>13</td>\n",
       "      <td>1</td>\n",
       "      <td>13</td>\n",
       "      <td>477</td>\n",
       "      <td>False</td>\n",
       "      <td>2422</td>\n",
       "      <td>0.000000</td>\n",
       "      <td>2179</td>\n",
       "      <td>4</td>\n",
       "      <td>...</td>\n",
       "      <td>477</td>\n",
       "      <td>0.0</td>\n",
       "      <td>4</td>\n",
       "      <td>1</td>\n",
       "      <td>1</td>\n",
       "      <td>4</td>\n",
       "      <td>7</td>\n",
       "      <td>2017</td>\n",
       "      <td>11</td>\n",
       "      <td>1</td>\n",
       "    </tr>\n",
       "    <tr>\n",
       "      <th>4</th>\n",
       "      <td>68413</td>\n",
       "      <td>12</td>\n",
       "      <td>1</td>\n",
       "      <td>1</td>\n",
       "      <td>178</td>\n",
       "      <td>False</td>\n",
       "      <td>13198</td>\n",
       "      <td>0.000076</td>\n",
       "      <td>9190</td>\n",
       "      <td>4</td>\n",
       "      <td>...</td>\n",
       "      <td>178</td>\n",
       "      <td>1.0</td>\n",
       "      <td>4</td>\n",
       "      <td>1</td>\n",
       "      <td>1</td>\n",
       "      <td>4</td>\n",
       "      <td>8</td>\n",
       "      <td>2017</td>\n",
       "      <td>11</td>\n",
       "      <td>2</td>\n",
       "    </tr>\n",
       "  </tbody>\n",
       "</table>\n",
       "<p>5 rows × 25 columns</p>\n",
       "</div>"
      ],
      "text/plain": [
       "       ip  app  device  os  channel  app.isin([1, 2, 3, 4, 5])  COUNT(clicks)  \\\n",
       "0   87540   12       1  13      497                      False          13198   \n",
       "1  105560   25       1  17      259                      False            804   \n",
       "2  101424   12       1  19      212                      False          13198   \n",
       "3   94584   13       1  13      477                      False           2422   \n",
       "4   68413   12       1   1      178                      False          13198   \n",
       "\n",
       "   PERCENT_TRUE(clicks.is_attributed)  NUM_UNIQUE(clicks.ip)  \\\n",
       "0                            0.000076                   9190   \n",
       "1                            0.000000                    740   \n",
       "2                            0.000076                   9190   \n",
       "3                            0.000000                   2179   \n",
       "4                            0.000076                   9190   \n",
       "\n",
       "   NUM_UNIQUE(clicks.device)                ...                 \\\n",
       "0                          4                ...                  \n",
       "1                          2                ...                  \n",
       "2                          4                ...                  \n",
       "3                          4                ...                  \n",
       "4                          4                ...                  \n",
       "\n",
       "   MODE(clicks.channel)  COUNT(clicks WHERE is_attributed = True)  \\\n",
       "0                   178                                       1.0   \n",
       "1                   259                                       0.0   \n",
       "2                   178                                       1.0   \n",
       "3                   477                                       0.0   \n",
       "4                   178                                       1.0   \n",
       "\n",
       "   NUM_UNIQUE(clicks.DAY(click_time))  NUM_UNIQUE(clicks.YEAR(click_time))  \\\n",
       "0                                   4                                    1   \n",
       "1                                   4                                    1   \n",
       "2                                   4                                    1   \n",
       "3                                   4                                    1   \n",
       "4                                   4                                    1   \n",
       "\n",
       "   NUM_UNIQUE(clicks.MONTH(click_time))  \\\n",
       "0                                     1   \n",
       "1                                     1   \n",
       "2                                     1   \n",
       "3                                     1   \n",
       "4                                     1   \n",
       "\n",
       "   NUM_UNIQUE(clicks.WEEKDAY(click_time))  MODE(clicks.DAY(click_time))  \\\n",
       "0                                       4                             8   \n",
       "1                                       4                             7   \n",
       "2                                       4                             8   \n",
       "3                                       4                             7   \n",
       "4                                       4                             8   \n",
       "\n",
       "   MODE(clicks.YEAR(click_time))  MODE(clicks.MONTH(click_time))  \\\n",
       "0                           2017                              11   \n",
       "1                           2017                              11   \n",
       "2                           2017                              11   \n",
       "3                           2017                              11   \n",
       "4                           2017                              11   \n",
       "\n",
       "   MODE(clicks.WEEKDAY(click_time))  \n",
       "0                                 2  \n",
       "1                                 1  \n",
       "2                                 2  \n",
       "3                                 1  \n",
       "4                                 2  \n",
       "\n",
       "[5 rows x 25 columns]"
      ]
     },
     "execution_count": 3,
     "metadata": {},
     "output_type": "execute_result"
    }
   ],
   "source": [
    "df_train = pd.read_csv(input_file, dtype=dtypes)\n",
    "X = df_train.drop(columns='click_time').drop(columns='id')\n",
    "y = X.pop('is_attributed')\n",
    "\n",
    "X.head()"
   ]
  },
  {
   "cell_type": "markdown",
   "metadata": {},
   "source": [
    "# Filter methods\n",
    "\n",
    "* statistical tests\n",
    "* independent of machine learning algorithms\n",
    "* used as a preprocessing step before machine learning "
   ]
  },
  {
   "cell_type": "code",
   "execution_count": 4,
   "metadata": {},
   "outputs": [
    {
     "data": {
      "text/html": [
       "<img src=\"../img/filter-methods.png\" width=\"600\" height=\"600\"/>"
      ],
      "text/plain": [
       "<IPython.core.display.Image object>"
      ]
     },
     "execution_count": 4,
     "metadata": {},
     "output_type": "execute_result"
    }
   ],
   "source": [
    "Image(url= \"../img/filter-methods.png\", width=600, height=600)"
   ]
  },
  {
   "cell_type": "markdown",
   "metadata": {},
   "source": [
    "## 1. Common sense"
   ]
  },
  {
   "cell_type": "code",
   "execution_count": 5,
   "metadata": {},
   "outputs": [
    {
     "data": {
      "text/plain": [
       "25"
      ]
     },
     "execution_count": 5,
     "metadata": {},
     "output_type": "execute_result"
    }
   ],
   "source": [
    "len(X.columns)"
   ]
  },
  {
   "cell_type": "code",
   "execution_count": 6,
   "metadata": {},
   "outputs": [
    {
     "data": {
      "text/plain": [
       "Index(['ip', 'app', 'device', 'os', 'channel', 'app.isin([1, 2, 3, 4, 5])',\n",
       "       'COUNT(clicks)', 'PERCENT_TRUE(clicks.is_attributed)',\n",
       "       'NUM_UNIQUE(clicks.ip)', 'NUM_UNIQUE(clicks.device)',\n",
       "       'NUM_UNIQUE(clicks.os)', 'NUM_UNIQUE(clicks.channel)',\n",
       "       'MODE(clicks.ip)', 'MODE(clicks.device)', 'MODE(clicks.os)',\n",
       "       'MODE(clicks.channel)', 'COUNT(clicks WHERE is_attributed = True)',\n",
       "       'NUM_UNIQUE(clicks.DAY(click_time))',\n",
       "       'NUM_UNIQUE(clicks.YEAR(click_time))',\n",
       "       'NUM_UNIQUE(clicks.MONTH(click_time))',\n",
       "       'NUM_UNIQUE(clicks.WEEKDAY(click_time))',\n",
       "       'MODE(clicks.DAY(click_time))', 'MODE(clicks.YEAR(click_time))',\n",
       "       'MODE(clicks.MONTH(click_time))', 'MODE(clicks.WEEKDAY(click_time))'],\n",
       "      dtype='object')"
      ]
     },
     "execution_count": 6,
     "metadata": {},
     "output_type": "execute_result"
    }
   ],
   "source": [
    "X.columns"
   ]
  },
  {
   "cell_type": "code",
   "execution_count": 7,
   "metadata": {},
   "outputs": [],
   "source": [
    "X_tmp = X.drop(columns='NUM_UNIQUE(clicks.YEAR(click_time))')"
   ]
  },
  {
   "cell_type": "markdown",
   "metadata": {},
   "source": [
    "## 2. Variance\n",
    "\n",
    "* Removes features with low variance\n",
    "* Docs: http://scikit-learn.org/stable/modules/generated/sklearn.feature_selection.VarianceThreshold.html#sklearn.feature_selection.VarianceThreshold"
   ]
  },
  {
   "cell_type": "code",
   "execution_count": 8,
   "metadata": {},
   "outputs": [
    {
     "data": {
      "text/plain": [
       "18"
      ]
     },
     "execution_count": 8,
     "metadata": {},
     "output_type": "execute_result"
    }
   ],
   "source": [
    "from sklearn.feature_selection import VarianceThreshold\n",
    "sel = VarianceThreshold(threshold=(.8 * (1 - .8)))\n",
    "X_tmp = sel.fit_transform(X)\n",
    "len(X_tmp[0])"
   ]
  },
  {
   "cell_type": "code",
   "execution_count": 9,
   "metadata": {},
   "outputs": [
    {
     "name": "stdout",
     "output_type": "stream",
     "text": [
      "ip: 4876955785.128131\n",
      "app: 223.2461875056\n",
      "device: 67426.6751634375\n",
      "os: 3129.603157841601\n",
      "channel: 16828.2122903484\n",
      "app.isin([1, 2, 3, 4, 5]): 0.2224340391\n",
      "COUNT(clicks): 33877641.63603411\n",
      "PERCENT_TRUE(clicks.is_attributed): 0.0004597986233921529\n",
      "NUM_UNIQUE(clicks.ip): 13759700.54983271\n",
      "NUM_UNIQUE(clicks.device): 26.180141391600003\n",
      "NUM_UNIQUE(clicks.os): 160.28823221590002\n",
      "NUM_UNIQUE(clicks.channel): 108.54447279360002\n",
      "MODE(clicks.ip): 572870825.592151\n",
      "MODE(clicks.device): 21903.401119039998\n",
      "MODE(clicks.os): 1225.4590860736007\n",
      "MODE(clicks.channel): 17338.2946191536\n",
      "COUNT(clicks WHERE is_attributed = True): 30.824343750000015\n",
      "NUM_UNIQUE(clicks.DAY(click_time)): 0.028159750000000004\n",
      "NUM_UNIQUE(clicks.YEAR(click_time)): 0.0\n",
      "NUM_UNIQUE(clicks.MONTH(click_time)): 0.0\n",
      "NUM_UNIQUE(clicks.WEEKDAY(click_time)): 0.028159750000000004\n",
      "MODE(clicks.DAY(click_time)): 0.3609552110999999\n",
      "MODE(clicks.YEAR(click_time)): 0.0\n",
      "MODE(clicks.MONTH(click_time)): 0.0\n",
      "MODE(clicks.WEEKDAY(click_time)): 0.36095521109999995\n"
     ]
    }
   ],
   "source": [
    "for x in zip(X.columns, sel.variances_):\n",
    "    print(f\"{x[0]}: {x[1]}\")"
   ]
  },
  {
   "cell_type": "markdown",
   "metadata": {},
   "source": [
    "# Wrapper methods\n",
    "\n",
    "* \"wraps\" machine learning algorithms\n",
    "* adds or removes features from a subset\n",
    "\n",
    "**Examples:**\n",
    "\n",
    "* Forward Selection - starts from no features, adds one by one\n",
    "* Backward Elimination - starts from all features, removes one by one\n",
    "* Recursive Feature elimination - optimization algorithm, "
   ]
  },
  {
   "cell_type": "markdown",
   "metadata": {},
   "source": [
    "## 1. Recursive feature elimination\n",
    "* Recursively considers smaller and smaller sets of features\n",
    "* Docs: http://scikit-learn.org/stable/modules/generated/sklearn.feature_selection.RFE.html#sklearn.feature_selection.RFE"
   ]
  },
  {
   "cell_type": "code",
   "execution_count": 10,
   "metadata": {},
   "outputs": [],
   "source": [
    "from sklearn.feature_selection import RFE\n",
    "from sklearn.linear_model import LogisticRegression"
   ]
  },
  {
   "cell_type": "code",
   "execution_count": 11,
   "metadata": {},
   "outputs": [],
   "source": [
    "model = LogisticRegression()\n",
    "rfe = RFE(model, 3)\n",
    "fit = rfe.fit(X, y)"
   ]
  },
  {
   "cell_type": "code",
   "execution_count": 12,
   "metadata": {},
   "outputs": [
    {
     "name": "stdout",
     "output_type": "stream",
     "text": [
      "Num Features: 3\n",
      "Selected Features: [False False False False False False False  True False False False False\n",
      " False False False False False  True False False  True False False False\n",
      " False]\n",
      "Feature Ranking: [19 12 15 14 10  6 17  1 16  4  7  8 21  9 18 11  3  1 22 23  1  5 13 20\n",
      "  2]\n"
     ]
    }
   ],
   "source": [
    "print(\"Num Features: %d\" % fit.n_features_)\n",
    "print(\"Selected Features: %s\" % fit.support_)\n",
    "print(\"Feature Ranking: %s\" % fit.ranking_)"
   ]
  },
  {
   "cell_type": "code",
   "execution_count": 13,
   "metadata": {},
   "outputs": [
    {
     "name": "stdout",
     "output_type": "stream",
     "text": [
      "PERCENT_TRUE(clicks.is_attributed): True\n",
      "NUM_UNIQUE(clicks.DAY(click_time)): True\n",
      "NUM_UNIQUE(clicks.WEEKDAY(click_time)): True\n"
     ]
    }
   ],
   "source": [
    "for x in zip(X.columns, fit.support_):\n",
    "    if x[1]:\n",
    "        print(f\"{x[0]}: {x[1]}\")"
   ]
  },
  {
   "cell_type": "markdown",
   "metadata": {},
   "source": [
    "# Embedded Methods\n",
    "* L1 regularization - Lasso Regression\n",
    "* Vowpal Wabbit supports regularization via --l1 and --l2 CLI arguments"
   ]
  },
  {
   "cell_type": "markdown",
   "metadata": {},
   "source": [
    "## 1. L1 regularization - Lasso Regression"
   ]
  },
  {
   "cell_type": "code",
   "execution_count": 14,
   "metadata": {},
   "outputs": [],
   "source": [
    "from sklearn.feature_selection import SelectFromModel\n",
    "from sklearn.linear_model import LogisticRegression\n",
    "\n",
    "model = LogisticRegression(penalty='l1')\n",
    "sfm = SelectFromModel(model, threshold=0.05)\n",
    "fit = sfm.fit(X, y)\n",
    "X_tmp = sfm.transform(X)\n",
    "n_features = X_tmp.shape[1]"
   ]
  },
  {
   "cell_type": "code",
   "execution_count": 15,
   "metadata": {},
   "outputs": [
    {
     "data": {
      "text/plain": [
       "8"
      ]
     },
     "execution_count": 15,
     "metadata": {},
     "output_type": "execute_result"
    }
   ],
   "source": [
    "n_features"
   ]
  },
  {
   "cell_type": "code",
   "execution_count": 16,
   "metadata": {},
   "outputs": [
    {
     "data": {
      "text/plain": [
       "Index(['app.isin([1, 2, 3, 4, 5])', 'PERCENT_TRUE(clicks.is_attributed)',\n",
       "       'NUM_UNIQUE(clicks.device)', 'NUM_UNIQUE(clicks.os)',\n",
       "       'COUNT(clicks WHERE is_attributed = True)',\n",
       "       'NUM_UNIQUE(clicks.WEEKDAY(click_time))',\n",
       "       'MODE(clicks.MONTH(click_time))', 'MODE(clicks.WEEKDAY(click_time))'],\n",
       "      dtype='object')"
      ]
     },
     "execution_count": 16,
     "metadata": {},
     "output_type": "execute_result"
    }
   ],
   "source": [
    "X.columns[fit.get_support()]"
   ]
  },
  {
   "cell_type": "markdown",
   "metadata": {},
   "source": [
    "## Tree-based feature selection"
   ]
  },
  {
   "cell_type": "markdown",
   "metadata": {},
   "source": [
    "### 1. ExtraTreesClassifier"
   ]
  },
  {
   "cell_type": "code",
   "execution_count": 17,
   "metadata": {},
   "outputs": [],
   "source": [
    "from sklearn.ensemble import ExtraTreesClassifier\n",
    "model = ExtraTreesClassifier()\n",
    "model = model.fit(X, y)"
   ]
  },
  {
   "cell_type": "code",
   "execution_count": 18,
   "metadata": {},
   "outputs": [
    {
     "name": "stdout",
     "output_type": "stream",
     "text": [
      "ip: 0.4285462942595714\n",
      "app: 0.00819000668820745\n",
      "device: 0.049744198084190144\n",
      "os: 0.19224385265442678\n",
      "channel: 0.09599550454902726\n",
      "app.isin([1, 2, 3, 4, 5]): 0.0026189051009922024\n",
      "COUNT(clicks): 0.006941735916549471\n",
      "PERCENT_TRUE(clicks.is_attributed): 0.06937334287425785\n",
      "NUM_UNIQUE(clicks.ip): 0.01639661532465251\n",
      "NUM_UNIQUE(clicks.device): 0.033630374393005834\n",
      "NUM_UNIQUE(clicks.os): 0.01347292593191551\n",
      "NUM_UNIQUE(clicks.channel): 0.007374379886429051\n",
      "MODE(clicks.ip): 0.004241442185266263\n",
      "MODE(clicks.device): 0.0050754838679615295\n",
      "MODE(clicks.os): 0.002130229170526638\n",
      "MODE(clicks.channel): 0.007719873149533178\n",
      "COUNT(clicks WHERE is_attributed = True): 0.04353008045216066\n",
      "NUM_UNIQUE(clicks.DAY(click_time)): 0.003883245295797911\n",
      "NUM_UNIQUE(clicks.YEAR(click_time)): 0.0\n",
      "NUM_UNIQUE(clicks.MONTH(click_time)): 0.0\n",
      "NUM_UNIQUE(clicks.WEEKDAY(click_time)): 0.0033037119434361807\n",
      "MODE(clicks.DAY(click_time)): 0.0019295906100733975\n",
      "MODE(clicks.YEAR(click_time)): 0.0\n",
      "MODE(clicks.MONTH(click_time)): 0.0\n",
      "MODE(clicks.WEEKDAY(click_time)): 0.0036582076620186935\n"
     ]
    }
   ],
   "source": [
    "for x in zip(X.columns, model.feature_importances_):\n",
    "    print(f\"{x[0]}: {x[1]}\")"
   ]
  },
  {
   "cell_type": "markdown",
   "metadata": {},
   "source": [
    "### 2. RandomForestClassifier"
   ]
  },
  {
   "cell_type": "code",
   "execution_count": 19,
   "metadata": {},
   "outputs": [
    {
     "name": "stderr",
     "output_type": "stream",
     "text": [
      "[Parallel(n_jobs=1)]: Done   3 out of   3 | elapsed:   10.1s finished\n"
     ]
    },
    {
     "data": {
      "text/plain": [
       "'AUC 0.92 +/- 0.00'"
      ]
     },
     "execution_count": 19,
     "metadata": {},
     "output_type": "execute_result"
    }
   ],
   "source": [
    "from sklearn.ensemble import RandomForestClassifier\n",
    "from sklearn.model_selection import cross_val_score\n",
    "\n",
    "clf = RandomForestClassifier(n_estimators=400, n_jobs=-1)\n",
    "scores = cross_val_score(estimator=clf,X=X, y=y, cv=3, scoring=\"roc_auc\", verbose=True)\n",
    "\n",
    "\"AUC %.2f +/- %.2f\" % (scores.mean(), scores.std())"
   ]
  },
  {
   "cell_type": "code",
   "execution_count": 20,
   "metadata": {},
   "outputs": [],
   "source": [
    "clf = clf.fit(X, y)"
   ]
  },
  {
   "cell_type": "code",
   "execution_count": 21,
   "metadata": {},
   "outputs": [
    {
     "name": "stdout",
     "output_type": "stream",
     "text": [
      "1: Feature: ip, 0.474\n",
      "2: Feature: os, 0.145\n",
      "3: Feature: channel, 0.090\n",
      "4: Feature: PERCENT_TRUE(clicks.is_attributed), 0.089\n",
      "5: Feature: device, 0.044\n",
      "6: Feature: COUNT(clicks WHERE is_attributed = True), 0.041\n",
      "7: Feature: NUM_UNIQUE(clicks.ip), 0.016\n",
      "8: Feature: COUNT(clicks), 0.016\n",
      "9: Feature: NUM_UNIQUE(clicks.os), 0.015\n",
      "10: Feature: MODE(clicks.ip), 0.013\n",
      "11: Feature: NUM_UNIQUE(clicks.device), 0.012\n",
      "12: Feature: MODE(clicks.channel), 0.010\n",
      "13: Feature: app, 0.009\n",
      "14: Feature: NUM_UNIQUE(clicks.channel), 0.007\n",
      "15: Feature: MODE(clicks.os), 0.004\n",
      "16: Feature: MODE(clicks.device), 0.004\n",
      "17: Feature: MODE(clicks.DAY(click_time)), 0.003\n",
      "18: Feature: NUM_UNIQUE(clicks.DAY(click_time)), 0.002\n",
      "19: Feature: NUM_UNIQUE(clicks.WEEKDAY(click_time)), 0.002\n",
      "20: Feature: MODE(clicks.WEEKDAY(click_time)), 0.002\n"
     ]
    }
   ],
   "source": [
    "def feature_importances(model, features, n=10):\n",
    "    importances = model.feature_importances_\n",
    "    zipped = sorted(zip(features, importances), key=lambda x: -x[1])\n",
    "    for i, f in enumerate(zipped[:n]):\n",
    "        print(\"%d: Feature: %s, %.3f\" % (i+1, f[0], f[1]))\n",
    "\n",
    "    return [f[0] for f in zipped[:n]]\n",
    "\n",
    "top_features = feature_importances(clf, X, n=20)"
   ]
  },
  {
   "cell_type": "markdown",
   "metadata": {},
   "source": [
    "## 3. XGBoost"
   ]
  },
  {
   "cell_type": "code",
   "execution_count": 22,
   "metadata": {},
   "outputs": [
    {
     "data": {
      "text/plain": [
       "'\\ngit clone --recursive https://github.com/dmlc/xgboost\\ncd xgboost\\nmake -j4\\ncd python-package\\npython setup.py develop --user\\n'"
      ]
     },
     "execution_count": 22,
     "metadata": {},
     "output_type": "execute_result"
    }
   ],
   "source": [
    "# Install it first; restart kernel if needed\n",
    "'''\n",
    "git clone --recursive https://github.com/dmlc/xgboost\n",
    "cd xgboost\n",
    "make -j4\n",
    "cd python-package\n",
    "python setup.py develop --user\n",
    "'''"
   ]
  },
  {
   "cell_type": "code",
   "execution_count": 23,
   "metadata": {},
   "outputs": [],
   "source": [
    "import xgboost as xgb\n",
    "\n",
    "clf_xgBoost = xgb.XGBClassifier(\n",
    "    max_depth = 4,\n",
    "    subsample = 0.8,\n",
    "    colsample_bytree = 0.7,\n",
    "    colsample_bylevel = 0.7,\n",
    "    scale_pos_weight = 9,\n",
    "    min_child_weight = 0,\n",
    "    reg_alpha = 4,\n",
    "    n_jobs = 4, \n",
    "    objective = 'binary:logistic'\n",
    ")\n",
    "\n",
    "X_xgb = X.rename(columns=lambda x: x.replace(\", \", \"_\"))\n",
    "X_xgb = X_xgb.rename(columns=lambda x: x.replace(\"[\", \"_\"))\n",
    "X_xgb = X_xgb.rename(columns=lambda x: x.replace(\"]\", \"_\"))"
   ]
  },
  {
   "cell_type": "code",
   "execution_count": 24,
   "metadata": {},
   "outputs": [
    {
     "data": {
      "text/plain": [
       "XGBClassifier(base_score=0.5, booster='gbtree', colsample_bylevel=0.7,\n",
       "       colsample_bytree=0.7, gamma=0, learning_rate=0.1, max_delta_step=0,\n",
       "       max_depth=4, min_child_weight=0, missing=None, n_estimators=100,\n",
       "       n_jobs=4, nthread=None, objective='binary:logistic', random_state=0,\n",
       "       reg_alpha=4, reg_lambda=1, scale_pos_weight=9, seed=None,\n",
       "       silent=True, subsample=0.8)"
      ]
     },
     "execution_count": 24,
     "metadata": {},
     "output_type": "execute_result"
    }
   ],
   "source": [
    "clf_xgBoost.fit(X_xgb, y)"
   ]
  },
  {
   "cell_type": "code",
   "execution_count": 25,
   "metadata": {},
   "outputs": [],
   "source": [
    "from sklearn import preprocessing\n",
    "\n",
    "importance_dict = {}\n",
    "for import_type in ['weight', 'gain', 'cover']:\n",
    "    importance_dict['xgBoost-'+import_type] = clf_xgBoost.get_booster().get_score(importance_type=import_type)\n",
    "\n",
    "'''\n",
    "‘weight’ - the number of times a feature is used to split the data across all trees.\n",
    "‘gain’ - the average gain of the feature when it is used in trees \n",
    "‘cover’ - the average coverage of the feature when it is used in trees\n",
    "'''\n",
    "    \n",
    "importance_df = pd.DataFrame(importance_dict).fillna(0)\n",
    "importance_df = pd.DataFrame(\n",
    "    preprocessing.MinMaxScaler().fit_transform(importance_df),\n",
    "    columns=importance_df.columns,\n",
    "    index=importance_df.index\n",
    ")\n",
    "\n",
    "importance_df['mean'] = importance_df.mean(axis=1)"
   ]
  },
  {
   "cell_type": "code",
   "execution_count": 27,
   "metadata": {},
   "outputs": [
    {
     "data": {
      "text/plain": [
       "<matplotlib.axes._subplots.AxesSubplot at 0x7f45a15635c0>"
      ]
     },
     "execution_count": 27,
     "metadata": {},
     "output_type": "execute_result"
    },
    {
     "data": {
      "image/png": "[encoded data removed]",
      "text/plain": [
       "<Figure size 1440x504 with 1 Axes>"
      ]
     },
     "metadata": {},
     "output_type": "display_data"
    }
   ],
   "source": [
    "importance_df.sort_values('mean').plot(kind='bar', figsize=(20, 7))"
   ]
  },
  {
   "cell_type": "code",
   "execution_count": null,
   "metadata": {},
   "outputs": [],
   "source": []
  }
 ],
 "metadata": {
  "kernelspec": {
   "display_name": "Python 3",
   "language": "python",
   "name": "python3"
  },
  "language_info": {
   "codemirror_mode": {
    "name": "ipython",
    "version": 3
   },
   "file_extension": ".py",
   "mimetype": "text/x-python",
   "name": "python",
   "nbconvert_exporter": "python",
   "pygments_lexer": "ipython3",
   "version": "3.6.4"
  }
 },
 "nbformat": 4,
 "nbformat_minor": 2
}
