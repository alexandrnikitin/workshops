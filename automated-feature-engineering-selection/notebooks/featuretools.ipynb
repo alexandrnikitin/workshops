{
 "cells": [
  {
   "cell_type": "code",
   "execution_count": 11,
   "metadata": {},
   "outputs": [],
   "source": [
    "from IPython.display import Image\n",
    "from IPython.core.display import HTML "
   ]
  },
  {
   "cell_type": "markdown",
   "metadata": {},
   "source": [
    "# Featuretools\n",
    "\n",
    "* a python library/ framework for automated feature engineering\n",
    "* based on \"Deep Feature Synthesis\" paper/ research\n",
    "* by Featurelabs https://www.featurelabs.com/\n",
    "* Website: https://www.featuretools.com/\n",
    "* Documentation: https://docs.featuretools.com/\n",
    "* Source code: https://github.com/Featuretools/featuretools\n",
    "* Examples: https://github.com/Featuretools/"
   ]
  },
  {
   "cell_type": "markdown",
   "metadata": {},
   "source": [
    "### Deep Feature Synthesis\n",
    "\n",
    "* Paper: http://www.jmaxkanter.com/static/papers/DSAA_DSM_2015.pdf\n",
    "* Article: https://www.featurelabs.com/blog/deep-feature-synthesis/\n",
    "* DFS works with the structured transactional and relational datasets \n",
    "* Across datasets features are derived by using primitive mathematical operations\n",
    "* New features are composed from using derived features (hence \"Deep\")"
   ]
  },
  {
   "cell_type": "markdown",
   "metadata": {},
   "source": [
    "### DFS example"
   ]
  },
  {
   "cell_type": "code",
   "execution_count": 15,
   "metadata": {},
   "outputs": [
    {
     "data": {
      "text/html": [
       "<img src=\"../img/max-order-size.svg\" width=\"600\" height=\"600\"/>"
      ],
      "text/plain": [
       "<IPython.core.display.Image object>"
      ]
     },
     "execution_count": 15,
     "metadata": {},
     "output_type": "execute_result"
    }
   ],
   "source": [
    "Image(url= \"../img/max-order-size.svg\", width=600, height=600)"
   ]
  },
  {
   "cell_type": "markdown",
   "metadata": {},
   "source": [
    "## Working with data"
   ]
  },
  {
   "cell_type": "code",
   "execution_count": 17,
   "metadata": {},
   "outputs": [],
   "source": [
    "import numpy as np\n",
    "import pandas as pd\n",
    "import featuretools as ft\n",
    "\n",
    "from featuretools.primitives import *"
   ]
  },
  {
   "cell_type": "code",
   "execution_count": 20,
   "metadata": {},
   "outputs": [
    {
     "data": {
      "text/html": [
       "<div>\n",
       "<style scoped>\n",
       "    .dataframe tbody tr th:only-of-type {\n",
       "        vertical-align: middle;\n",
       "    }\n",
       "\n",
       "    .dataframe tbody tr th {\n",
       "        vertical-align: top;\n",
       "    }\n",
       "\n",
       "    .dataframe thead th {\n",
       "        text-align: right;\n",
       "    }\n",
       "</style>\n",
       "<table border=\"1\" class=\"dataframe\">\n",
       "  <thead>\n",
       "    <tr style=\"text-align: right;\">\n",
       "      <th></th>\n",
       "      <th>ip</th>\n",
       "      <th>app</th>\n",
       "      <th>device</th>\n",
       "      <th>os</th>\n",
       "      <th>channel</th>\n",
       "      <th>click_time</th>\n",
       "      <th>attributed_time</th>\n",
       "      <th>is_attributed</th>\n",
       "    </tr>\n",
       "  </thead>\n",
       "  <tbody>\n",
       "    <tr>\n",
       "      <th>0</th>\n",
       "      <td>87540</td>\n",
       "      <td>12</td>\n",
       "      <td>1</td>\n",
       "      <td>13</td>\n",
       "      <td>497</td>\n",
       "      <td>2017-11-07 09:30:38</td>\n",
       "      <td>NaN</td>\n",
       "      <td>0</td>\n",
       "    </tr>\n",
       "    <tr>\n",
       "      <th>1</th>\n",
       "      <td>105560</td>\n",
       "      <td>25</td>\n",
       "      <td>1</td>\n",
       "      <td>17</td>\n",
       "      <td>259</td>\n",
       "      <td>2017-11-07 13:40:27</td>\n",
       "      <td>NaN</td>\n",
       "      <td>0</td>\n",
       "    </tr>\n",
       "    <tr>\n",
       "      <th>2</th>\n",
       "      <td>101424</td>\n",
       "      <td>12</td>\n",
       "      <td>1</td>\n",
       "      <td>19</td>\n",
       "      <td>212</td>\n",
       "      <td>2017-11-07 18:05:24</td>\n",
       "      <td>NaN</td>\n",
       "      <td>0</td>\n",
       "    </tr>\n",
       "    <tr>\n",
       "      <th>3</th>\n",
       "      <td>94584</td>\n",
       "      <td>13</td>\n",
       "      <td>1</td>\n",
       "      <td>13</td>\n",
       "      <td>477</td>\n",
       "      <td>2017-11-07 04:58:08</td>\n",
       "      <td>NaN</td>\n",
       "      <td>0</td>\n",
       "    </tr>\n",
       "    <tr>\n",
       "      <th>4</th>\n",
       "      <td>68413</td>\n",
       "      <td>12</td>\n",
       "      <td>1</td>\n",
       "      <td>1</td>\n",
       "      <td>178</td>\n",
       "      <td>2017-11-09 09:00:09</td>\n",
       "      <td>NaN</td>\n",
       "      <td>0</td>\n",
       "    </tr>\n",
       "  </tbody>\n",
       "</table>\n",
       "</div>"
      ],
      "text/plain": [
       "       ip  app  device  os  channel           click_time attributed_time  \\\n",
       "0   87540   12       1  13      497  2017-11-07 09:30:38             NaN   \n",
       "1  105560   25       1  17      259  2017-11-07 13:40:27             NaN   \n",
       "2  101424   12       1  19      212  2017-11-07 18:05:24             NaN   \n",
       "3   94584   13       1  13      477  2017-11-07 04:58:08             NaN   \n",
       "4   68413   12       1   1      178  2017-11-09 09:00:09             NaN   \n",
       "\n",
       "   is_attributed  \n",
       "0              0  \n",
       "1              0  \n",
       "2              0  \n",
       "3              0  \n",
       "4              0  "
      ]
     },
     "execution_count": 20,
     "metadata": {},
     "output_type": "execute_result"
    }
   ],
   "source": [
    "# data taken from kaggle.com/c/talkingdata-adtracking-fraud-detection\n",
    "input_file = '../data/train_sample.csv'\n",
    "pd.read_csv('../data/train_sample.csv').head()"
   ]
  },
  {
   "cell_type": "markdown",
   "metadata": {},
   "source": [
    "### Load typed data"
   ]
  },
  {
   "cell_type": "code",
   "execution_count": 21,
   "metadata": {},
   "outputs": [],
   "source": [
    "dtypes = {\n",
    "    'ip': 'uint32',\n",
    "    'app': 'uint16',\n",
    "    'device': 'uint16',\n",
    "    'os': 'uint16',\n",
    "    'channel': 'uint16',\n",
    "    'is_attributed': 'uint8'\n",
    "}\n",
    "to_read = ['ip', 'app', 'device', 'os', 'channel', 'is_attributed', 'click_time']\n",
    "to_parse = ['click_time']\n",
    "df_train = pd.read_csv(input_file, usecols=to_read, dtype=dtypes, parse_dates=to_parse)\n",
    "df_train['id'] = range(len(df_train))"
   ]
  },
  {
   "cell_type": "markdown",
   "metadata": {},
   "source": [
    "### Create an EntitySet"
   ]
  },
  {
   "cell_type": "code",
   "execution_count": 24,
   "metadata": {},
   "outputs": [],
   "source": [
    "es = ft.EntitySet(id='clicks')"
   ]
  },
  {
   "cell_type": "markdown",
   "metadata": {},
   "source": [
    "### Create and add an entity"
   ]
  },
  {
   "cell_type": "code",
   "execution_count": 26,
   "metadata": {},
   "outputs": [],
   "source": [
    "es = es.entity_from_dataframe(\n",
    "    entity_id='clicks',\n",
    "    dataframe=df_train,\n",
    "    index='id',\n",
    "    time_index='click_time',\n",
    "    variable_types={\n",
    "        'ip': ft.variable_types.Categorical,\n",
    "        'app': ft.variable_types.Categorical,\n",
    "        'device': ft.variable_types.Categorical,\n",
    "        'os': ft.variable_types.Categorical,\n",
    "        'channel': ft.variable_types.Categorical,\n",
    "        'is_attributed': ft.variable_types.Boolean,\n",
    "    }\n",
    ")"
   ]
  },
  {
   "cell_type": "code",
   "execution_count": 28,
   "metadata": {},
   "outputs": [
    {
     "data": {
      "text/plain": [
       "Entityset: clicks\n",
       "  Entities:\n",
       "    clicks (shape = [100000, 8])\n",
       "  Relationships:\n",
       "    No relationships"
      ]
     },
     "execution_count": 28,
     "metadata": {},
     "output_type": "execute_result"
    }
   ],
   "source": [
    "es"
   ]
  },
  {
   "cell_type": "code",
   "execution_count": 27,
   "metadata": {},
   "outputs": [
    {
     "data": {
      "text/plain": [
       "[<Variable: click_time (dtype: datetime_time_index, format: None)>,\n",
       " <Variable: ip (dtype = categorical, count = 100000)>,\n",
       " <Variable: app (dtype = categorical, count = 100000)>,\n",
       " <Variable: device (dtype = categorical, count = 100000)>,\n",
       " <Variable: os (dtype = categorical, count = 100000)>,\n",
       " <Variable: channel (dtype = categorical, count = 100000)>,\n",
       " <Variable: is_attributed (dtype = boolean, count = 100000)>,\n",
       " <Variable: id (dtype = index, count = 100000)>]"
      ]
     },
     "execution_count": 27,
     "metadata": {},
     "output_type": "execute_result"
    }
   ],
   "source": [
    "es[\"clicks\"].variables"
   ]
  },
  {
   "cell_type": "markdown",
   "metadata": {},
   "source": [
    "### Create another entity with relationship to the \"clicks\" table"
   ]
  },
  {
   "cell_type": "code",
   "execution_count": 35,
   "metadata": {},
   "outputs": [
    {
     "data": {
      "text/plain": [
       "'\\nes = es.entity_from_dataframe(\\n    entity_id=\\'users\\',\\n    dataframe=df_users,\\n    index=\\'id\\')\\n\\nnew_relationship = ft.Relationship(\\n    es[\"users\"][\"id\"],\\n    es[\"clicks\"][\"user_id\"])\\n\\nes = es.add_relationship(new_relationship)\\n'"
      ]
     },
     "execution_count": 35,
     "metadata": {},
     "output_type": "execute_result"
    }
   ],
   "source": [
    "'''\n",
    "es = es.entity_from_dataframe(\n",
    "    entity_id='users',\n",
    "    dataframe=df_users,\n",
    "    index='id')\n",
    "\n",
    "new_relationship = ft.Relationship(\n",
    "    es[\"users\"][\"id\"],\n",
    "    es[\"clicks\"][\"user_id\"])\n",
    "\n",
    "es = es.add_relationship(new_relationship)\n",
    "'''"
   ]
  },
  {
   "cell_type": "markdown",
   "metadata": {},
   "source": [
    "### Create an entity from the existing table"
   ]
  },
  {
   "cell_type": "code",
   "execution_count": 29,
   "metadata": {},
   "outputs": [],
   "source": [
    "es = es.normalize_entity(\n",
    "    base_entity_id='clicks', \n",
    "    new_entity_id='apps', \n",
    "    index='app', \n",
    "    make_time_index=False)"
   ]
  },
  {
   "cell_type": "markdown",
   "metadata": {},
   "source": [
    "* Creates a new \"apps\" entity based on data from \"clicks\" entity\n",
    "* Creates a new relationship between \"apps\" and \"clicks\" and adds it to the EntitySet"
   ]
  },
  {
   "cell_type": "code",
   "execution_count": 30,
   "metadata": {},
   "outputs": [
    {
     "data": {
      "text/plain": [
       "[<Variable: click_time (dtype: datetime_time_index, format: None)>,\n",
       " <Variable: ip (dtype = categorical, count = 100000)>,\n",
       " <Variable: app (dtype = id, count = 100000)>,\n",
       " <Variable: device (dtype = categorical, count = 100000)>,\n",
       " <Variable: os (dtype = categorical, count = 100000)>,\n",
       " <Variable: channel (dtype = categorical, count = 100000)>,\n",
       " <Variable: is_attributed (dtype = boolean, count = 100000)>,\n",
       " <Variable: id (dtype = index, count = 100000)>]"
      ]
     },
     "execution_count": 30,
     "metadata": {},
     "output_type": "execute_result"
    }
   ],
   "source": [
    "es['clicks'].variables"
   ]
  },
  {
   "cell_type": "code",
   "execution_count": 31,
   "metadata": {},
   "outputs": [
    {
     "data": {
      "text/plain": [
       "[<Variable: app (dtype = index, count = 161)>]"
      ]
     },
     "execution_count": 31,
     "metadata": {},
     "output_type": "execute_result"
    }
   ],
   "source": [
    "es['apps'].variables"
   ]
  },
  {
   "cell_type": "code",
   "execution_count": 32,
   "metadata": {},
   "outputs": [
    {
     "data": {
      "text/plain": [
       "Entityset: clicks\n",
       "  Entities:\n",
       "    clicks (shape = [100000, 8])\n",
       "    apps (shape = [161, 1])\n",
       "  Relationships:\n",
       "    clicks.app -> apps.app"
      ]
     },
     "execution_count": 32,
     "metadata": {},
     "output_type": "execute_result"
    }
   ],
   "source": [
    "es"
   ]
  },
  {
   "cell_type": "markdown",
   "metadata": {},
   "source": [
    "### Create features"
   ]
  },
  {
   "cell_type": "code",
   "execution_count": 37,
   "metadata": {},
   "outputs": [],
   "source": [
    "feature_matrix, feature_defs = ft.dfs(entityset=es, target_entity=\"apps\")"
   ]
  },
  {
   "cell_type": "code",
   "execution_count": 38,
   "metadata": {},
   "outputs": [
    {
     "data": {
      "text/plain": [
       "[<Feature: COUNT(clicks)>,\n",
       " <Feature: PERCENT_TRUE(clicks.is_attributed)>,\n",
       " <Feature: NUM_UNIQUE(clicks.ip)>,\n",
       " <Feature: NUM_UNIQUE(clicks.device)>,\n",
       " <Feature: NUM_UNIQUE(clicks.os)>,\n",
       " <Feature: NUM_UNIQUE(clicks.channel)>,\n",
       " <Feature: MODE(clicks.ip)>,\n",
       " <Feature: MODE(clicks.device)>,\n",
       " <Feature: MODE(clicks.os)>,\n",
       " <Feature: MODE(clicks.channel)>,\n",
       " <Feature: NUM_UNIQUE(clicks.DAY(click_time))>,\n",
       " <Feature: NUM_UNIQUE(clicks.YEAR(click_time))>,\n",
       " <Feature: NUM_UNIQUE(clicks.MONTH(click_time))>,\n",
       " <Feature: NUM_UNIQUE(clicks.WEEKDAY(click_time))>,\n",
       " <Feature: MODE(clicks.DAY(click_time))>,\n",
       " <Feature: MODE(clicks.YEAR(click_time))>,\n",
       " <Feature: MODE(clicks.MONTH(click_time))>,\n",
       " <Feature: MODE(clicks.WEEKDAY(click_time))>]"
      ]
     },
     "execution_count": 38,
     "metadata": {},
     "output_type": "execute_result"
    }
   ],
   "source": [
    "feature_defs"
   ]
  },
  {
   "cell_type": "code",
   "execution_count": 40,
   "metadata": {},
   "outputs": [
    {
     "data": {
      "text/html": [
       "<div>\n",
       "<style scoped>\n",
       "    .dataframe tbody tr th:only-of-type {\n",
       "        vertical-align: middle;\n",
       "    }\n",
       "\n",
       "    .dataframe tbody tr th {\n",
       "        vertical-align: top;\n",
       "    }\n",
       "\n",
       "    .dataframe thead th {\n",
       "        text-align: right;\n",
       "    }\n",
       "</style>\n",
       "<table border=\"1\" class=\"dataframe\">\n",
       "  <thead>\n",
       "    <tr style=\"text-align: right;\">\n",
       "      <th></th>\n",
       "      <th>COUNT(clicks)</th>\n",
       "      <th>PERCENT_TRUE(clicks.is_attributed)</th>\n",
       "      <th>NUM_UNIQUE(clicks.ip)</th>\n",
       "      <th>NUM_UNIQUE(clicks.device)</th>\n",
       "      <th>NUM_UNIQUE(clicks.os)</th>\n",
       "      <th>NUM_UNIQUE(clicks.channel)</th>\n",
       "      <th>MODE(clicks.ip)</th>\n",
       "      <th>MODE(clicks.device)</th>\n",
       "      <th>MODE(clicks.os)</th>\n",
       "      <th>MODE(clicks.channel)</th>\n",
       "      <th>NUM_UNIQUE(clicks.DAY(click_time))</th>\n",
       "      <th>NUM_UNIQUE(clicks.YEAR(click_time))</th>\n",
       "      <th>NUM_UNIQUE(clicks.MONTH(click_time))</th>\n",
       "      <th>NUM_UNIQUE(clicks.WEEKDAY(click_time))</th>\n",
       "      <th>MODE(clicks.DAY(click_time))</th>\n",
       "      <th>MODE(clicks.YEAR(click_time))</th>\n",
       "      <th>MODE(clicks.MONTH(click_time))</th>\n",
       "      <th>MODE(clicks.WEEKDAY(click_time))</th>\n",
       "    </tr>\n",
       "    <tr>\n",
       "      <th>app</th>\n",
       "      <th></th>\n",
       "      <th></th>\n",
       "      <th></th>\n",
       "      <th></th>\n",
       "      <th></th>\n",
       "      <th></th>\n",
       "      <th></th>\n",
       "      <th></th>\n",
       "      <th></th>\n",
       "      <th></th>\n",
       "      <th></th>\n",
       "      <th></th>\n",
       "      <th></th>\n",
       "      <th></th>\n",
       "      <th></th>\n",
       "      <th></th>\n",
       "      <th></th>\n",
       "      <th></th>\n",
       "    </tr>\n",
       "  </thead>\n",
       "  <tbody>\n",
       "    <tr>\n",
       "      <th>1</th>\n",
       "      <td>3135</td>\n",
       "      <td>0.000000</td>\n",
       "      <td>2723</td>\n",
       "      <td>4</td>\n",
       "      <td>56</td>\n",
       "      <td>27</td>\n",
       "      <td>5348</td>\n",
       "      <td>1</td>\n",
       "      <td>19</td>\n",
       "      <td>134</td>\n",
       "      <td>4</td>\n",
       "      <td>1</td>\n",
       "      <td>1</td>\n",
       "      <td>4</td>\n",
       "      <td>7</td>\n",
       "      <td>2017</td>\n",
       "      <td>11</td>\n",
       "      <td>1</td>\n",
       "    </tr>\n",
       "    <tr>\n",
       "      <th>2</th>\n",
       "      <td>11737</td>\n",
       "      <td>0.000000</td>\n",
       "      <td>7759</td>\n",
       "      <td>3</td>\n",
       "      <td>75</td>\n",
       "      <td>21</td>\n",
       "      <td>5314</td>\n",
       "      <td>1</td>\n",
       "      <td>19</td>\n",
       "      <td>477</td>\n",
       "      <td>4</td>\n",
       "      <td>1</td>\n",
       "      <td>1</td>\n",
       "      <td>4</td>\n",
       "      <td>8</td>\n",
       "      <td>2017</td>\n",
       "      <td>11</td>\n",
       "      <td>2</td>\n",
       "    </tr>\n",
       "    <tr>\n",
       "      <th>3</th>\n",
       "      <td>18279</td>\n",
       "      <td>0.000219</td>\n",
       "      <td>12040</td>\n",
       "      <td>4</td>\n",
       "      <td>78</td>\n",
       "      <td>32</td>\n",
       "      <td>5348</td>\n",
       "      <td>1</td>\n",
       "      <td>19</td>\n",
       "      <td>280</td>\n",
       "      <td>4</td>\n",
       "      <td>1</td>\n",
       "      <td>1</td>\n",
       "      <td>4</td>\n",
       "      <td>8</td>\n",
       "      <td>2017</td>\n",
       "      <td>11</td>\n",
       "      <td>2</td>\n",
       "    </tr>\n",
       "    <tr>\n",
       "      <th>4</th>\n",
       "      <td>58</td>\n",
       "      <td>0.000000</td>\n",
       "      <td>56</td>\n",
       "      <td>2</td>\n",
       "      <td>20</td>\n",
       "      <td>1</td>\n",
       "      <td>79881</td>\n",
       "      <td>1</td>\n",
       "      <td>19</td>\n",
       "      <td>101</td>\n",
       "      <td>3</td>\n",
       "      <td>1</td>\n",
       "      <td>1</td>\n",
       "      <td>3</td>\n",
       "      <td>9</td>\n",
       "      <td>2017</td>\n",
       "      <td>11</td>\n",
       "      <td>3</td>\n",
       "    </tr>\n",
       "    <tr>\n",
       "      <th>5</th>\n",
       "      <td>188</td>\n",
       "      <td>0.074468</td>\n",
       "      <td>187</td>\n",
       "      <td>2</td>\n",
       "      <td>36</td>\n",
       "      <td>4</td>\n",
       "      <td>26995</td>\n",
       "      <td>1</td>\n",
       "      <td>19</td>\n",
       "      <td>377</td>\n",
       "      <td>4</td>\n",
       "      <td>1</td>\n",
       "      <td>1</td>\n",
       "      <td>4</td>\n",
       "      <td>7</td>\n",
       "      <td>2017</td>\n",
       "      <td>11</td>\n",
       "      <td>1</td>\n",
       "    </tr>\n",
       "  </tbody>\n",
       "</table>\n",
       "</div>"
      ],
      "text/plain": [
       "     COUNT(clicks)  PERCENT_TRUE(clicks.is_attributed)  NUM_UNIQUE(clicks.ip)  \\\n",
       "app                                                                             \n",
       "1             3135                            0.000000                   2723   \n",
       "2            11737                            0.000000                   7759   \n",
       "3            18279                            0.000219                  12040   \n",
       "4               58                            0.000000                     56   \n",
       "5              188                            0.074468                    187   \n",
       "\n",
       "     NUM_UNIQUE(clicks.device)  NUM_UNIQUE(clicks.os)  \\\n",
       "app                                                     \n",
       "1                            4                     56   \n",
       "2                            3                     75   \n",
       "3                            4                     78   \n",
       "4                            2                     20   \n",
       "5                            2                     36   \n",
       "\n",
       "     NUM_UNIQUE(clicks.channel)  MODE(clicks.ip)  MODE(clicks.device)  \\\n",
       "app                                                                     \n",
       "1                            27             5348                    1   \n",
       "2                            21             5314                    1   \n",
       "3                            32             5348                    1   \n",
       "4                             1            79881                    1   \n",
       "5                             4            26995                    1   \n",
       "\n",
       "     MODE(clicks.os)  MODE(clicks.channel)  \\\n",
       "app                                          \n",
       "1                 19                   134   \n",
       "2                 19                   477   \n",
       "3                 19                   280   \n",
       "4                 19                   101   \n",
       "5                 19                   377   \n",
       "\n",
       "     NUM_UNIQUE(clicks.DAY(click_time))  NUM_UNIQUE(clicks.YEAR(click_time))  \\\n",
       "app                                                                            \n",
       "1                                     4                                    1   \n",
       "2                                     4                                    1   \n",
       "3                                     4                                    1   \n",
       "4                                     3                                    1   \n",
       "5                                     4                                    1   \n",
       "\n",
       "     NUM_UNIQUE(clicks.MONTH(click_time))  \\\n",
       "app                                         \n",
       "1                                       1   \n",
       "2                                       1   \n",
       "3                                       1   \n",
       "4                                       1   \n",
       "5                                       1   \n",
       "\n",
       "     NUM_UNIQUE(clicks.WEEKDAY(click_time))  MODE(clicks.DAY(click_time))  \\\n",
       "app                                                                         \n",
       "1                                         4                             7   \n",
       "2                                         4                             8   \n",
       "3                                         4                             8   \n",
       "4                                         3                             9   \n",
       "5                                         4                             7   \n",
       "\n",
       "     MODE(clicks.YEAR(click_time))  MODE(clicks.MONTH(click_time))  \\\n",
       "app                                                                  \n",
       "1                             2017                              11   \n",
       "2                             2017                              11   \n",
       "3                             2017                              11   \n",
       "4                             2017                              11   \n",
       "5                             2017                              11   \n",
       "\n",
       "     MODE(clicks.WEEKDAY(click_time))  \n",
       "app                                    \n",
       "1                                   1  \n",
       "2                                   2  \n",
       "3                                   2  \n",
       "4                                   3  \n",
       "5                                   1  "
      ]
     },
     "execution_count": 40,
     "metadata": {},
     "output_type": "execute_result"
    }
   ],
   "source": [
    "feature_matrix.head()"
   ]
  },
  {
   "cell_type": "code",
   "execution_count": null,
   "metadata": {},
   "outputs": [],
   "source": []
  }
 ],
 "metadata": {
  "kernelspec": {
   "display_name": "Python 3",
   "language": "python",
   "name": "python3"
  },
  "language_info": {
   "codemirror_mode": {
    "name": "ipython",
    "version": 3
   },
   "file_extension": ".py",
   "mimetype": "text/x-python",
   "name": "python",
   "nbconvert_exporter": "python",
   "pygments_lexer": "ipython3",
   "version": "3.6.4"
  }
 },
 "nbformat": 4,
 "nbformat_minor": 2
}
