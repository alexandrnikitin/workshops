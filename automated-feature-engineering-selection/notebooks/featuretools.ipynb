{
 "cells": [
  {
   "cell_type": "code",
   "execution_count": 11,
   "metadata": {},
   "outputs": [],
   "source": [
    "from IPython.display import Image\n",
    "from IPython.core.display import HTML "
   ]
  },
  {
   "cell_type": "markdown",
   "metadata": {},
   "source": [
    "# Featuretools\n",
    "\n",
    "* a python library/ framework for automated feature engineering\n",
    "* by Featurelabs https://www.featurelabs.com/\n",
    "* Website: https://www.featuretools.com/\n",
    "* Documentation: https://docs.featuretools.com/\n",
    "* Source code: https://github.com/Featuretools/featuretools\n",
    "* Examples: https://github.com/Featuretools/"
   ]
  },
  {
   "cell_type": "markdown",
   "metadata": {},
   "source": [
    "### Deep Feature Synthesis\n",
    "\n",
    "* Paper: http://www.jmaxkanter.com/static/papers/DSAA_DSM_2015.pdf\n",
    "* Article: https://www.featurelabs.com/blog/deep-feature-synthesis/\n",
    "* DFS works with the structured transactional and relational datasets \n",
    "* Across datasets features are derived by using primitive mathematical operations\n",
    "* New features are composed from using derived features."
   ]
  },
  {
   "cell_type": "markdown",
   "metadata": {},
   "source": [
    "### DFS example"
   ]
  },
  {
   "cell_type": "code",
   "execution_count": 15,
   "metadata": {},
   "outputs": [
    {
     "data": {
      "text/html": [
       "<img src=\"../img/max-order-size.svg\" width=\"600\" height=\"600\"/>"
      ],
      "text/plain": [
       "<IPython.core.display.Image object>"
      ]
     },
     "execution_count": 15,
     "metadata": {},
     "output_type": "execute_result"
    }
   ],
   "source": [
    "Image(url= \"../img/max-order-size.svg\", width=600, height=600)"
   ]
  },
  {
   "cell_type": "code",
   "execution_count": 3,
   "metadata": {},
   "outputs": [],
   "source": [
    "import numpy as np\n",
    "import pandas as pd\n",
    "import featuretools as ft\n",
    "\n",
    "from featuretools.primitives import *"
   ]
  }
 ],
 "metadata": {
  "kernelspec": {
   "display_name": "Python 3",
   "language": "python",
   "name": "python3"
  },
  "language_info": {
   "codemirror_mode": {
    "name": "ipython",
    "version": 3
   },
   "file_extension": ".py",
   "mimetype": "text/x-python",
   "name": "python",
   "nbconvert_exporter": "python",
   "pygments_lexer": "ipython3",
   "version": "3.6.4"
  }
 },
 "nbformat": 4,
 "nbformat_minor": 2
}
