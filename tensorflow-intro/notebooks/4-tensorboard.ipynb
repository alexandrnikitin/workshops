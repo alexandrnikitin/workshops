{
 "cells": [
  {
   "cell_type": "markdown",
   "metadata": {},
   "source": [
    "# TensorBoard"
   ]
  },
  {
   "cell_type": "code",
   "execution_count": 1,
   "metadata": {},
   "outputs": [],
   "source": [
    "import tensorflow as tf"
   ]
  },
  {
   "cell_type": "code",
   "execution_count": 2,
   "metadata": {},
   "outputs": [
    {
     "name": "stdout",
     "output_type": "stream",
     "text": [
      "Extracting /tmp/tensorflow/alex/mnist/input_data/train-images-idx3-ubyte.gz\n",
      "Extracting /tmp/tensorflow/alex/mnist/input_data/train-labels-idx1-ubyte.gz\n",
      "Extracting /tmp/tensorflow/alex/mnist/input_data/t10k-images-idx3-ubyte.gz\n",
      "Extracting /tmp/tensorflow/alex/mnist/input_data/t10k-labels-idx1-ubyte.gz\n"
     ]
    }
   ],
   "source": [
    "from tensorflow.examples.tutorials.mnist import input_data\n",
    "mnist = input_data.read_data_sets('/tmp/tensorflow/alex/mnist/input_data', one_hot=True)"
   ]
  },
  {
   "cell_type": "code",
   "execution_count": 3,
   "metadata": {},
   "outputs": [],
   "source": [
    "def variable_summaries(var):\n",
    "    with tf.name_scope('summaries'):\n",
    "        mean = tf.reduce_mean(var)\n",
    "        tf.summary.scalar('mean', mean)\n",
    "        with tf.name_scope('stddev'):\n",
    "            stddev = tf.sqrt(tf.reduce_mean(tf.square(var - mean)))\n",
    "        tf.summary.scalar('stddev', stddev)\n",
    "        tf.summary.scalar('max', tf.reduce_max(var))\n",
    "        tf.summary.scalar('min', tf.reduce_min(var))\n",
    "        tf.summary.histogram('histogram', var)"
   ]
  },
  {
   "cell_type": "markdown",
   "metadata": {},
   "source": [
    "### Graph"
   ]
  },
  {
   "cell_type": "code",
   "execution_count": 4,
   "metadata": {},
   "outputs": [],
   "source": [
    "run_id = 'initial'\n",
    "log_dir = '/home/jovyan/work/logs/alex/' + run_id\n",
    "\n",
    "with tf.name_scope('input'):\n",
    "    x = tf.placeholder(tf.float32, [None, 784], name='x-input')\n",
    "    y_ = tf.placeholder(tf.float32, [None, 10], name='y-input')\n",
    "\n",
    "with tf.name_scope('input_reshape'):\n",
    "    image_shaped_input = tf.reshape(x, [-1, 28, 28, 1])\n",
    "    tf.summary.image('input', image_shaped_input, max_outputs=10)\n",
    "\n",
    "with tf.name_scope('weights'):\n",
    "    W = tf.Variable(initial_value=tf.zeros([784, 10], dtype=tf.float32), name='weights', trainable=True)\n",
    "    variable_summaries(W)\n",
    "with tf.name_scope('biases'):\n",
    "    b = tf.Variable(initial_value=tf.zeros([10]), dtype=tf.float32, name='bias', trainable=True)\n",
    "    variable_summaries(b)\n",
    "with tf.name_scope('Wx_plus_b'):\n",
    "    y = tf.matmul(x, W) + b\n",
    "    tf.summary.histogram('predictions', y)\n",
    "\n",
    "with tf.name_scope('cross_entropy'):\n",
    "    diff = tf.nn.softmax_cross_entropy_with_logits(labels=y_, logits=y)\n",
    "    with tf.name_scope('total'):\n",
    "        cross_entropy = tf.reduce_mean(diff)\n",
    "\n",
    "tf.summary.scalar('cross_entropy', cross_entropy)\n",
    "\n",
    "with tf.name_scope('train'):\n",
    "    train_step = tf.train.GradientDescentOptimizer(learning_rate=0.5).minimize(cross_entropy)\n",
    "\n",
    "\n",
    "with tf.name_scope('accuracy'):\n",
    "    with tf.name_scope('correct_prediction'):\n",
    "        correct_prediction = tf.equal(tf.argmax(y, 1), tf.argmax(y_, 1))\n",
    "    with tf.name_scope('accuracy'):\n",
    "        accuracy = tf.reduce_mean(tf.cast(correct_prediction, tf.float32))\n",
    "tf.summary.scalar('accuracy', accuracy)\n",
    "\n",
    "merged = tf.summary.merge_all()"
   ]
  },
  {
   "cell_type": "markdown",
   "metadata": {},
   "source": [
    "### Initialize"
   ]
  },
  {
   "cell_type": "code",
   "execution_count": 5,
   "metadata": {},
   "outputs": [
    {
     "name": "stdout",
     "output_type": "stream",
     "text": [
      "/home/jovyan/work/logs/alex/initial\n"
     ]
    }
   ],
   "source": [
    "sess = tf.Session()\n",
    "sess.run(tf.global_variables_initializer())\n",
    "\n",
    "train_writer = tf.summary.FileWriter(log_dir + '/train', sess.graph)\n",
    "test_writer = tf.summary.FileWriter(log_dir + '/test')\n",
    "\n",
    "print(log_dir)"
   ]
  },
  {
   "cell_type": "markdown",
   "metadata": {},
   "source": [
    "### Train"
   ]
  },
  {
   "cell_type": "code",
   "execution_count": 6,
   "metadata": {},
   "outputs": [
    {
     "name": "stdout",
     "output_type": "stream",
     "text": [
      "Accuracy at step 0: 0.098\n",
      "Accuracy at step 10: 0.719\n",
      "Accuracy at step 20: 0.8312\n",
      "Accuracy at step 30: 0.8688\n",
      "Accuracy at step 40: 0.8703\n",
      "Accuracy at step 50: 0.8703\n",
      "Accuracy at step 60: 0.8666\n",
      "Accuracy at step 70: 0.8828\n",
      "Accuracy at step 80: 0.8787\n",
      "Accuracy at step 90: 0.8911\n",
      "Adding run metadata for 99\n",
      "Accuracy at step 100: 0.8918\n",
      "Accuracy at step 110: 0.8922\n",
      "Accuracy at step 120: 0.8925\n",
      "Accuracy at step 130: 0.8975\n",
      "Accuracy at step 140: 0.8943\n",
      "Accuracy at step 150: 0.8995\n",
      "Accuracy at step 160: 0.8986\n",
      "Accuracy at step 170: 0.9007\n",
      "Accuracy at step 180: 0.9052\n",
      "Accuracy at step 190: 0.898\n",
      "Adding run metadata for 199\n",
      "Accuracy at step 200: 0.9035\n",
      "Accuracy at step 210: 0.9061\n",
      "Accuracy at step 220: 0.9047\n",
      "Accuracy at step 230: 0.8998\n",
      "Accuracy at step 240: 0.9078\n",
      "Accuracy at step 250: 0.8985\n",
      "Accuracy at step 260: 0.9082\n",
      "Accuracy at step 270: 0.9088\n",
      "Accuracy at step 280: 0.9051\n",
      "Accuracy at step 290: 0.9053\n",
      "Adding run metadata for 299\n",
      "Accuracy at step 300: 0.9088\n",
      "Accuracy at step 310: 0.9061\n",
      "Accuracy at step 320: 0.9082\n",
      "Accuracy at step 330: 0.9071\n",
      "Accuracy at step 340: 0.9077\n",
      "Accuracy at step 350: 0.9096\n",
      "Accuracy at step 360: 0.909\n",
      "Accuracy at step 370: 0.9096\n",
      "Accuracy at step 380: 0.9118\n",
      "Accuracy at step 390: 0.9097\n",
      "Adding run metadata for 399\n",
      "Accuracy at step 400: 0.9084\n",
      "Accuracy at step 410: 0.9116\n",
      "Accuracy at step 420: 0.9038\n",
      "Accuracy at step 430: 0.9101\n",
      "Accuracy at step 440: 0.9117\n",
      "Accuracy at step 450: 0.9118\n",
      "Accuracy at step 460: 0.9163\n",
      "Accuracy at step 470: 0.9135\n",
      "Accuracy at step 480: 0.9134\n",
      "Accuracy at step 490: 0.9127\n",
      "Adding run metadata for 499\n",
      "Accuracy at step 500: 0.9137\n",
      "Accuracy at step 510: 0.9128\n",
      "Accuracy at step 520: 0.9137\n",
      "Accuracy at step 530: 0.9126\n",
      "Accuracy at step 540: 0.9144\n",
      "Accuracy at step 550: 0.9113\n",
      "Accuracy at step 560: 0.9123\n",
      "Accuracy at step 570: 0.9165\n",
      "Accuracy at step 580: 0.9102\n",
      "Accuracy at step 590: 0.9174\n",
      "Adding run metadata for 599\n",
      "Accuracy at step 600: 0.9133\n",
      "Accuracy at step 610: 0.9141\n",
      "Accuracy at step 620: 0.9165\n",
      "Accuracy at step 630: 0.9167\n",
      "Accuracy at step 640: 0.9155\n",
      "Accuracy at step 650: 0.9125\n",
      "Accuracy at step 660: 0.9186\n",
      "Accuracy at step 670: 0.9167\n",
      "Accuracy at step 680: 0.9048\n",
      "Accuracy at step 690: 0.9142\n",
      "Adding run metadata for 699\n",
      "Accuracy at step 700: 0.9152\n",
      "Accuracy at step 710: 0.9153\n",
      "Accuracy at step 720: 0.9145\n",
      "Accuracy at step 730: 0.9066\n",
      "Accuracy at step 740: 0.9178\n",
      "Accuracy at step 750: 0.9168\n",
      "Accuracy at step 760: 0.9147\n",
      "Accuracy at step 770: 0.9108\n",
      "Accuracy at step 780: 0.9162\n",
      "Accuracy at step 790: 0.9154\n",
      "Adding run metadata for 799\n",
      "Accuracy at step 800: 0.9159\n",
      "Accuracy at step 810: 0.9111\n",
      "Accuracy at step 820: 0.9192\n",
      "Accuracy at step 830: 0.9179\n",
      "Accuracy at step 840: 0.9172\n",
      "Accuracy at step 850: 0.9185\n",
      "Accuracy at step 860: 0.9171\n",
      "Accuracy at step 870: 0.9184\n",
      "Accuracy at step 880: 0.9156\n",
      "Accuracy at step 890: 0.9158\n",
      "Adding run metadata for 899\n",
      "Accuracy at step 900: 0.9174\n",
      "Accuracy at step 910: 0.915\n",
      "Accuracy at step 920: 0.914\n",
      "Accuracy at step 930: 0.9195\n",
      "Accuracy at step 940: 0.9176\n",
      "Accuracy at step 950: 0.9175\n",
      "Accuracy at step 960: 0.918\n",
      "Accuracy at step 970: 0.9174\n",
      "Accuracy at step 980: 0.9188\n",
      "Accuracy at step 990: 0.9152\n",
      "Adding run metadata for 999\n"
     ]
    }
   ],
   "source": [
    "for i in range(1000):\n",
    "    if i % 10 == 0:  # Record summaries and test-set accuracy\n",
    "        summary, acc = sess.run([merged, accuracy], feed_dict={x: mnist.test.images, y_: mnist.test.labels})\n",
    "        test_writer.add_summary(summary, i)\n",
    "        print('Accuracy at step %s: %s' % (i, acc))\n",
    "    else:  # Record train set summaries, and train\n",
    "        xs, ys = mnist.train.next_batch(100)\n",
    "        if i % 100 == 99:  # Record execution stats\n",
    "            run_options = tf.RunOptions(trace_level=tf.RunOptions.FULL_TRACE)\n",
    "            run_metadata = tf.RunMetadata()\n",
    "            summary, _ = sess.run([merged, train_step],\n",
    "                              feed_dict={x: xs, y_: ys},\n",
    "                              options=run_options,\n",
    "                              run_metadata=run_metadata)\n",
    "            train_writer.add_run_metadata(run_metadata, 'step%03d' % i)\n",
    "            train_writer.add_summary(summary, i)\n",
    "            print('Adding run metadata for', i)\n",
    "        else:  # Record a summary\n",
    "            summary, _ = sess.run([merged, train_step], feed_dict={x: xs, y_: ys})\n",
    "            train_writer.add_summary(summary, i)\n",
    "\n",
    "train_writer.close()\n",
    "test_writer.close()"
   ]
  },
  {
   "cell_type": "code",
   "execution_count": 7,
   "metadata": {},
   "outputs": [],
   "source": [
    "sess.close()"
   ]
  },
  {
   "cell_type": "code",
   "execution_count": 8,
   "metadata": {},
   "outputs": [
    {
     "name": "stdout",
     "output_type": "stream",
     "text": [
      "tensorboard --logdir=/home/jovyan/work/logs/alex/initial\n"
     ]
    }
   ],
   "source": [
    "print('tensorboard --logdir=' + log_dir)"
   ]
  }
 ],
 "metadata": {
  "kernelspec": {
   "display_name": "Python 3",
   "language": "python",
   "name": "python3"
  },
  "language_info": {
   "codemirror_mode": {
    "name": "ipython",
    "version": 3
   },
   "file_extension": ".py",
   "mimetype": "text/x-python",
   "name": "python",
   "nbconvert_exporter": "python",
   "pygments_lexer": "ipython3",
   "version": "3.6.2"
  }
 },
 "nbformat": 4,
 "nbformat_minor": 2
}
