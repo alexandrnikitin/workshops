{
 "cells": [
  {
   "cell_type": "markdown",
   "metadata": {},
   "source": [
    "### Session\n",
    "\n",
    "Session is a class for running TensorFlow operations. A session encapsulates the control and state of the TensorFlow runtime."
   ]
  },
  {
   "cell_type": "code",
   "execution_count": 1,
   "metadata": {},
   "outputs": [
    {
     "name": "stdout",
     "output_type": "stream",
     "text": [
      "1\n",
      "1\n",
      "1\n"
     ]
    }
   ],
   "source": [
    "import tensorflow as tf\n",
    "\n",
    "# create a graph\n",
    "a = tf.constant(1)\n",
    "\n",
    "# 1\n",
    "with tf.Session() as session:\n",
    "    print(session.run(a))\n",
    "\n",
    "# 2\n",
    "session = tf.Session()\n",
    "print(session.run(a))\n",
    "session.close()\n",
    "\n",
    "# 3 Interactive session, usefull in shells\n",
    "tf.InteractiveSession()\n",
    "print(a.eval())"
   ]
  },
  {
   "cell_type": "markdown",
   "metadata": {},
   "source": [
    "### Constants"
   ]
  },
  {
   "cell_type": "code",
   "execution_count": 2,
   "metadata": {},
   "outputs": [
    {
     "name": "stdout",
     "output_type": "stream",
     "text": [
      "[[ 1.  2.  3.]\n",
      " [ 4.  5.  6.]]\n",
      "shape:  (2, 3) ,type:  <class 'tensorflow.python.framework.tensor_shape.TensorShape'>\n"
     ]
    }
   ],
   "source": [
    "a = tf.constant([[1, 2, 3], [4, 5, 6]], dtype=tf.float32, name='constant')\n",
    "\n",
    "with tf.Session() as session:\n",
    "    print(session.run(a))\n",
    "    print(\"shape: \", a.get_shape(), \",type: \", type(a.get_shape()))"
   ]
  },
  {
   "cell_type": "markdown",
   "metadata": {},
   "source": [
    "### Variables"
   ]
  },
  {
   "cell_type": "code",
   "execution_count": 3,
   "metadata": {},
   "outputs": [
    {
     "name": "stdout",
     "output_type": "stream",
     "text": [
      "[ 0.03565044  0.0211431   0.07576992]\n"
     ]
    }
   ],
   "source": [
    "var = tf.Variable(tf.random_normal([3], stddev=0.1), name='var')\n",
    "\n",
    "with tf.Session() as session:\n",
    "    # must initialize before usage\n",
    "    init = tf.variables_initializer([var])\n",
    "    session.run(init)\n",
    "    # or initialize all vars\n",
    "    init = tf.global_variables_initializer()\n",
    "    session.run(init)\n",
    "    print(session.run(var))"
   ]
  },
  {
   "cell_type": "markdown",
   "metadata": {},
   "source": [
    "### Placeholder"
   ]
  },
  {
   "cell_type": "code",
   "execution_count": 4,
   "metadata": {},
   "outputs": [
    {
     "name": "stdout",
     "output_type": "stream",
     "text": [
      "1 + 2 = 3\n"
     ]
    }
   ],
   "source": [
    "x = tf.placeholder(tf.int32)\n",
    "y = tf.placeholder(tf.int32)\n",
    "\n",
    "add = tf.add(x, y)\n",
    "add = x + y\n",
    "\n",
    "with tf.Session() as session:\n",
    "    result = session.run(add, feed_dict={x: 1, y: 2})\n",
    "    print(\"1 + 2 = {0}\".format(result))\n"
   ]
  }
 ],
 "metadata": {
  "kernelspec": {
   "display_name": "Python 3",
   "language": "python",
   "name": "python3"
  },
  "language_info": {
   "codemirror_mode": {
    "name": "ipython",
    "version": 3
   },
   "file_extension": ".py",
   "mimetype": "text/x-python",
   "name": "python",
   "nbconvert_exporter": "python",
   "pygments_lexer": "ipython3",
   "version": "3.6.2"
  }
 },
 "nbformat": 4,
 "nbformat_minor": 2
}
